{
 "cells": [
  {
   "cell_type": "markdown",
   "id": "3cf8f01e",
   "metadata": {},
   "source": [
    "## Qué es Python\n",
    "\n",
    "Es un lenguaje de programación de sintaxis sencilla, amigable y trata de parecerse en lo mayor posible al lenguaje humano.\n",
    "Como está escrito en inglés, es más parecido a ese idioma."
   ]
  },
  {
   "cell_type": "code",
   "execution_count": 1,
   "id": "e39476f4",
   "metadata": {},
   "outputs": [
    {
     "name": "stdout",
     "output_type": "stream",
     "text": [
      "Hola mundo\n"
     ]
    }
   ],
   "source": [
    "print('Hola mundo')"
   ]
  },
  {
   "cell_type": "markdown",
   "id": "db67675e",
   "metadata": {},
   "source": [
    "## VARIABLE\n",
    "Las variables son espacios en memoria de la computadora en los cuales podemos guardar datos durante la ejecución de nuestro programa."
   ]
  },
  {
   "cell_type": "code",
   "execution_count": null,
   "id": "b8cb9d45",
   "metadata": {},
   "outputs": [
    {
     "name": "stdout",
     "output_type": "stream",
     "text": [
      "Hola, soy eduardo y tengo 23 años\n"
     ]
    }
   ],
   "source": [
    "nombre = 'Eduardo'\n",
    "\n"
   ]
  },
  {
   "cell_type": "markdown",
   "id": "d712af87",
   "metadata": {},
   "source": [
    "lgunas reglas y buenas prácticas para nombrar variables en Python:\n",
    "\n",
    "- ✅ Puede incluir letras, números y guiones bajos (_).\n",
    "- ✅ Debe empezar con una letra o guión bajo, nunca con un número.\n",
    "- ✅ Evitar usar palabras reservadas de Python (como print, def, if, etc).\n",
    "- ✅ Usar nombres descriptivos (¡no pongas x, a, b si no hace falta!)."
   ]
  },
  {
   "cell_type": "markdown",
   "id": "1625a30f",
   "metadata": {},
   "source": [
    "El Zen de Python, por Tim Peters\n",
    "\n",
    "- `Lo bello es mejor que lo feo. `- El código debe ser elegante y estéticamente agradable, no solo funcional. Un código \"bello\" es claro, intuitivo y fácil de entender, lo que facilita su mantenimiento y colaboración.\n",
    "- `Explícito es mejor que implícito. ` Si un problema requiere una solución compleja, está bien, siempre que no sea \"complicada\" (es decir, confusa o enredada).\n",
    "- `Simple es mejor que complejo.` Si hay una forma sencilla de resolver un problema, úsala. La simplicidad reduce errores y facilita el mantenimiento.\n",
    "- `Complejo es mejor que complicado.` Si un problema requiere una solución compleja, está bien, siempre que no sea \"complicada\" (es decir, confusa o enredada).\n",
    "- `Plano es mejor que anidado.` Evita anidar estructuras (como bucles o condicionales) en exceso, ya que esto dificulta la lectura y el mantenimiento del código.\n",
    "- `Espaciado es mejor que denso.` El uso adecuado de espacios en blanco (saltos de línea, indentación, espacios entre operadores) mejora la legibilidad del código.\n",
    "- `La legibilidad cuenta.` El código debe ser fácil de leer y entender, tanto para el autor como para otros desarrolladores.\n",
    "- `Los casos especiales no son tan especiales como para romper las reglas.` No hagas excepciones a las convenciones de Python solo porque un caso parece especial. Mantener la consistencia en el estilo y las prácticas es más importante.\n",
    "- `Aunque lo práctico gana a lo puro.` Aunque seguir las reglas es ideal, a veces es necesario priorizar soluciones prácticas que resuelvan el problema, incluso si no son perfectamente \"puras\" o académicas.\n",
    "- `Los errores nunca deberían pasar en silencio.`Los errores deben ser detectados y manejados explícitamente para evitar problemas ocultos.\n",
    "- `A menos que se silencien explícitamente.` Si decides ignorar un error, hazlo de manera intencional y explícita usando un bloque try-except, documentando por qué lo haces.\n",
    "- `Ante la ambigüedad, rechaza la tentación de adivinar.` Si el código o los datos son ambiguos, no intentes adivinar lo que el usuario quiso decir. Pide claridad o valida los datos.\n",
    "- `Debe haber una —y preferiblemente solo una— manera obvia de hacerlo.` Python busca que las soluciones sean claras y consistentes, con una forma preferida de resolver un problema, reduciendo la confusión.\n",
    "- `Aunque esa manera puede no ser obvia al principio a menos que seas holandés.` Una broma sobre Guido van Rossum, creador de Python, quien es holandés. Algunas soluciones pueden no ser evidentes para principiantes, pero con experiencia se vuelven claras.\n",
    "- `Ahora es mejor que nunca.` Es mejor escribir código funcional ahora que esperar a una solución perfecta que nunca llega.\n",
    "- `Aunque nunca es a menudo mejor que ahora mismo.` A veces, no hacer algo (o no apresurarse) es mejor que implementar una solución apresurada y defectuosa.\n",
    "- `Si la implementación es difícil de explicar, es una mala idea.` Si no puedes explicar fácilmente cómo funciona tu código, probablemente sea demasiado complicado o confuso.\n",
    "- `Si la implementación es fácil de explicar, puede ser una buena idea.` Si puedes describir tu código de manera simple, es probable que sea una buena  solución. La claridad es un indicador de calidad.\n",
    "- `¡Los espacios de nombres son una gran idea — hagamos más de esos!` Los espacios de nombres (como módulos, clases, o funciones) ayudan a organizar el código y evitar conflictos entre variables o funciones."
   ]
  },
  {
   "cell_type": "code",
   "execution_count": null,
   "id": "b18ca4a2",
   "metadata": {},
   "outputs": [
    {
     "name": "stdout",
     "output_type": "stream",
     "text": [
      "4\n",
      "banana\n"
     ]
    }
   ],
   "source": [
    "#Esto es una variable\n",
    "fruta = 'naranja'\n",
    "\n",
    "\n",
    "cantidad_de_fruta = 4\n",
    "print(cantidad_de_fruta)\n",
    "\n",
    "fruta = 'banana'\n",
    "print(fruta)"
   ]
  },
  {
   "cell_type": "markdown",
   "id": "0f7b48e5",
   "metadata": {},
   "source": [
    "## Tipos de datos\n",
    "Así como los textos, también podemos almacenar otros tipos de datos.\n",
    "Textos, números, decimales, booleanos/lógicos."
   ]
  },
  {
   "cell_type": "code",
   "execution_count": 14,
   "id": "f1e65c09",
   "metadata": {},
   "outputs": [
    {
     "name": "stdout",
     "output_type": "stream",
     "text": [
      "20\n",
      "1.8\n",
      "20 True\n"
     ]
    }
   ],
   "source": [
    "edad = 20 # -> int \n",
    "altura = 1.80 # -> float\n",
    "nombre = 'Pedro' # -> str \n",
    "feliz = True # -> Bool\n",
    "\n",
    "print(edad)\n",
    "print(altura)\n",
    "\n",
    "print(edad, feliz)\n",
    "\n",
    "\n"
   ]
  },
  {
   "cell_type": "markdown",
   "id": "166c90c6",
   "metadata": {},
   "source": [
    "## Qué es un challenge\n",
    "Un \"challenge\"  es una tarea o problema que se plantea para poner a prueba las habilidades y el conocimiento de alguien. En el contexto de la programación , los challenges son actividades o ejercicios diseñados para desafiar a los participantes y motivarlos a aplicar sus nuevos conocimientos y habilidades adquiridas."
   ]
  },
  {
   "cell_type": "markdown",
   "id": "08046040",
   "metadata": {},
   "source": [
    "## Challenge 🤺 \n",
    "Crea 3 variables con tu nombre, edad y ciudad. Imprime en una sola línea usando `print()`"
   ]
  },
  {
   "cell_type": "markdown",
   "id": "e4abf4af",
   "metadata": {},
   "source": [
    "## Operaciones aritméticas "
   ]
  },
  {
   "cell_type": "markdown",
   "id": "28424fa8",
   "metadata": {},
   "source": [
    "### Operadores aritméticos\n",
    "- `+` - Suma\n",
    "- `-` - Resta\n",
    "- `*` - Multiplicación\n",
    "- `/` - División\n",
    "- `//` - División entera (sin decimales)\n",
    "- `%` - Resto (módulo)  "
   ]
  },
  {
   "cell_type": "code",
   "execution_count": 15,
   "id": "5e18154a",
   "metadata": {},
   "outputs": [
    {
     "name": "stdout",
     "output_type": "stream",
     "text": [
      "2\n"
     ]
    }
   ],
   "source": [
    "print(1 + 1)"
   ]
  },
  {
   "cell_type": "code",
   "execution_count": null,
   "id": "609f6112",
   "metadata": {},
   "outputs": [
    {
     "name": "stdout",
     "output_type": "stream",
     "text": [
      "El costo total es 20000\n",
      "Mi vuelto es 30000\n",
      "30000\n"
     ]
    }
   ],
   "source": [
    "producto1 = 'papa frita'\n",
    "costo_producto1 = 12000\n",
    "producto2 = 'coca'\n",
    "costo_producto2 = 8000\n",
    "billetera = 50000\n",
    "\n",
    "costo_producto = costo_producto1 + costo_producto2\n",
    "\n",
    "print('El costo total es', costo_producto)\n",
    "\n",
    "print('Mi vuelto es', billetera - costo_producto)\n",
    "\n",
    "billetera = billetera - costo_producto\n",
    "\n",
    "print(billetera)\n"
   ]
  },
  {
   "cell_type": "markdown",
   "id": "24952636",
   "metadata": {},
   "source": [
    "## Challenge 🤺 - 20m\n",
    "\n",
    "Suma: asignar dos números en dos variables diferentes `cantidad_de_manzanas` y `cantidad_de_naranjas`. Luego sumar ambas variables en `cantidad_de_frutas`. Imprimir la última variable.\n",
    "\n",
    "Resta: asignar un valor numérico a la variable `frutas_vendidas`. Luego, asignar la resta entre `cantidad_de_frutas` y `frutas_vendidas` a la variable `frutas_restantes`. Imprimir la última variable."
   ]
  },
  {
   "cell_type": "markdown",
   "id": "8401f3a2",
   "metadata": {},
   "source": [
    "### Matias\n"
   ]
  },
  {
   "cell_type": "code",
   "execution_count": null,
   "id": "e159f3a3",
   "metadata": {},
   "outputs": [
    {
     "name": "stdout",
     "output_type": "stream",
     "text": [
      "En total hay 15 frutas\n",
      "Sobran 5 frutas luego de restar lo vendido\n"
     ]
    }
   ],
   "source": [
    "#Suma: asigna dos numeros en dos variables diferentes: cantidad_de_manzanas y cantidad_de_naranjas. Luego sumar ambas variables en cantidad_de_frutas. Imprimir la ultima variable.\n",
    "\n",
    "cantidad_de_manzanas = 10\n",
    "cantidad_de_naranjas = 5\n",
    "cantidad_de_frutas = cantidad_de_manzanas + cantidad_de_naranjas\n",
    "print('En total hay', cantidad_de_frutas, 'frutas')\n",
    "\n",
    "#Resta: asignar un valor numerico a la variable frutas_vendidas. Luego, asignar la resta entre cantidad_de_frutas y frutas_vendidas a la variable frutas_restantes. Imprimir la ultima variable\n",
    "\n",
    "frutas_vendidas = 10\n",
    "frutas_restantes = cantidad_de_frutas - frutas_vendidas\n",
    "print('Sobran', frutas_restantes, 'frutas luego de restar lo vendido')"
   ]
  },
  {
   "cell_type": "markdown",
   "id": "151122b5",
   "metadata": {},
   "source": [
    "### Angel"
   ]
  },
  {
   "cell_type": "code",
   "execution_count": null,
   "id": "ea73953e",
   "metadata": {},
   "outputs": [
    {
     "name": "stdout",
     "output_type": "stream",
     "text": [
      "hay un total de  22 frutas\n",
      "sobran 12 frutas despues de la venta\n"
     ]
    }
   ],
   "source": [
    "cantidad_manzanas = 10\n",
    "cantidad_naranjas = 12\n",
    "cantidad_frutas  = 0\n",
    "frutas_vendidas = 10\n",
    "frutas_restantes = 0\n",
    "\n",
    "# operaciones logicas\n",
    "cantidad_frutas = cantidad_manzanas + cantidad_naranjas\n",
    "frutas_restantes =cantidad_frutas - frutas_vendidas\n",
    "\n",
    "# impresiones\n",
    "print('hay un total de ',cantidad_frutas,'frutas')\n",
    "print('sobran', frutas_restantes,'frutas despues de la venta')"
   ]
  },
  {
   "cell_type": "code",
   "execution_count": 35,
   "id": "b7b65e0f",
   "metadata": {},
   "outputs": [
    {
     "name": "stdout",
     "output_type": "stream",
     "text": [
      "Juan \n",
      "Lopez \n",
      "Juan Lopez \n",
      "Juan  Lopez \n",
      "Mi nombre es Juan  mi apellido es Lopez \n",
      "Mi nombre es Juan  mi apellido es Lopez \n",
      "Mi nombre es Juan  y mi apellido es Lopez \n"
     ]
    }
   ],
   "source": [
    "nombre = \"Juan \"\n",
    "apellido = 'Lopez '\n",
    "print(nombre)\n",
    "print(apellido)\n",
    "\n",
    "#Concatenacion\n",
    "print(nombre + apellido)\n",
    "\n",
    "print(nombre + ' ' + apellido)\n",
    "\n",
    "print('Mi nombre es',nombre,'mi apellido es', apellido)\n",
    "print('Mi nombre es '+ nombre +' mi apellido es '+ apellido)\n",
    "print(f'Mi nombre es {nombre} y mi apellido es {apellido}')\n"
   ]
  },
  {
   "cell_type": "markdown",
   "id": "b58f11f2",
   "metadata": {},
   "source": [
    "## Challenge 🤺 - 15m\n",
    "\n",
    "Asignar el nombre y el apellido de tu compañera/o a las variables `nombre` y `apellido`. Luego, `imprimir` una frase, utilizando las variables.\n",
    "EJEMPLO: \"Hola. Me llamo Claudia Melgarejo. Mucho gusto.\""
   ]
  },
  {
   "cell_type": "markdown",
   "id": "002b8f9c",
   "metadata": {},
   "source": [
    "### Xavi"
   ]
  },
  {
   "cell_type": "code",
   "execution_count": 36,
   "id": "1e8a2dcf",
   "metadata": {},
   "outputs": [
    {
     "name": "stdout",
     "output_type": "stream",
     "text": [
      "Hola, me llamo Iván Portillo. Mucho gusto.\n"
     ]
    }
   ],
   "source": [
    "nombre = 'Iván'\n",
    "apellido = 'Portillo'\n",
    "print(f'Hola, me llamo {nombre} {apellido}. Mucho gusto.')"
   ]
  },
  {
   "cell_type": "markdown",
   "id": "587fc7f3",
   "metadata": {},
   "source": [
    "### Tobias"
   ]
  },
  {
   "cell_type": "code",
   "execution_count": 37,
   "id": "94ffadff",
   "metadata": {},
   "outputs": [
    {
     "name": "stdout",
     "output_type": "stream",
     "text": [
      "Hola mi nombre es Oscar Sotelo, me da gusto estar en code pro!!\n"
     ]
    }
   ],
   "source": [
    "#Asignar el nombre y el apellido de tu compañera/o a las variables nombre y apellido. Luego, imprimir una frase, utilizando las variables. EJEMPLO: \"Hola. Me llamo Claudia Melgarejo. Mucho gusto.\"\n",
    "\n",
    "nombre = \"Oscar\"\n",
    "apellido = \"Sotelo\"\n",
    "\n",
    "print(f\"Hola mi nombre es {nombre} {apellido}, me da gusto estar en code pro!!\")"
   ]
  },
  {
   "cell_type": "code",
   "execution_count": 43,
   "id": "1ced5fea",
   "metadata": {},
   "outputs": [
    {
     "name": "stdout",
     "output_type": "stream",
     "text": [
      "Jose\n",
      "2021\n"
     ]
    }
   ],
   "source": [
    "nombre = input('Ingrese su nombre')\n",
    "print(nombre)\n",
    "\n",
    "anho = input('Cuantos anhos tenes?')\n",
    "anho2 = input('Cuantos anhos tenes?')\n",
    "print(anho + anho2)\n",
    "\n"
   ]
  },
  {
   "cell_type": "code",
   "execution_count": 45,
   "id": "2f8e2c45",
   "metadata": {},
   "outputs": [
    {
     "name": "stdout",
     "output_type": "stream",
     "text": [
      "<class 'int'>\n",
      "<class 'str'>\n"
     ]
    }
   ],
   "source": [
    "edad = 20\n",
    "print(type(edad))\n",
    "\n",
    "print(type(anho))"
   ]
  },
  {
   "cell_type": "code",
   "execution_count": 46,
   "id": "cd48f190",
   "metadata": {},
   "outputs": [
    {
     "name": "stdout",
     "output_type": "stream",
     "text": [
      "<class 'int'>\n"
     ]
    }
   ],
   "source": [
    "anho = int(input('Ingrese su edad'))\n",
    "\n",
    "print(type(anho))"
   ]
  },
  {
   "cell_type": "markdown",
   "id": "4dcaad49",
   "metadata": {},
   "source": [
    "### Challenge 🤺 - 15m\n",
    "\n",
    "`Solicitar al usuario ingresar` dos números y almacenarlos en dos variables. Luego, imprimir la suma de los dos números."
   ]
  },
  {
   "cell_type": "markdown",
   "id": "cc326438",
   "metadata": {},
   "source": [
    "### Marcelo"
   ]
  },
  {
   "cell_type": "code",
   "execution_count": 47,
   "id": "3b114e72",
   "metadata": {},
   "outputs": [
    {
     "name": "stdout",
     "output_type": "stream",
     "text": [
      "la suma de los dos numeros es 5\n"
     ]
    }
   ],
   "source": [
    "\n",
    "primer_numero = int(input(\"ingrese el primer numero: \"))\n",
    "segundo_numero = int(input(\"ingrese el segundo numero: \"))\n",
    "\n",
    "print(f\"la suma de los dos numeros es {primer_numero + segundo_numero}\")"
   ]
  },
  {
   "cell_type": "markdown",
   "id": "23de7624",
   "metadata": {},
   "source": [
    "### Oscar"
   ]
  },
  {
   "cell_type": "code",
   "execution_count": 48,
   "id": "58839fd5",
   "metadata": {},
   "outputs": [
    {
     "name": "stdout",
     "output_type": "stream",
     "text": [
      "Estimado usuario la suma de 4 y 7 da un total de 11 🧐🍷\n",
      "Muchas gracias por utilizar nuestra aplicación🙌\n"
     ]
    }
   ],
   "source": [
    "num1= int(input(\"Ingrese el 1° número\"))\n",
    "num2= int(input(\"Ingrese el 2° número\"))\n",
    "suma= num1+num2\n",
    "print(f\"Estimado usuario la suma de {num1} y {num2} da un total de {suma} 🧐🍷\")\n",
    "print(\"Muchas gracias por utilizar nuestra aplicación🙌\")"
   ]
  },
  {
   "cell_type": "markdown",
   "id": "20ed2bc9",
   "metadata": {},
   "source": [
    "## Qué es un algoritmo\n",
    "Un algoritmo es una serie de pasos o instrucciones definidos y ordenados para resolver un problema o completar una tarea específica, muy de la mano de lo que es el pensamiento computacional. Los algoritmos se utilizan para describir cómo se deben llevar a cabo procesos de manera precisa y detallada, debe tener un número finito de pasos y terminar en algún momento."
   ]
  },
  {
   "cell_type": "code",
   "execution_count": 50,
   "id": "1306d078",
   "metadata": {},
   "outputs": [
    {
     "name": "stdout",
     "output_type": "stream",
     "text": [
      "5\n"
     ]
    }
   ],
   "source": [
    "numero = int(input('ingrese un numero'))\n",
    "numer02 = int(input('ingrese otro numero'))\n",
    "suma = numero + numer02\n",
    "print(suma)"
   ]
  },
  {
   "cell_type": "markdown",
   "id": "ba0b32f5",
   "metadata": {},
   "source": [
    "## Funciones\n",
    "Las funciones son un conjunto de instrucciones de una operacion que quisieramos volver a repetir en diferentes partes de nuestro programa. \n",
    "\n",
    "Las funciones existen para permitirnos re utilizar codigo que ya escribimos anteriormente, sin la necesidad de volver a escribirlo. \n",
    "\n",
    "Imaginá que estás preparando un sándwich. Siempre seguís los mismos pasos, entonces en vez de escribir esas instrucciones cada vez, podés agruparlas en una función y simplemente \"llamarla\" cuando lo necesites."
   ]
  },
  {
   "cell_type": "code",
   "execution_count": null,
   "id": "b5df9703",
   "metadata": {},
   "outputs": [
    {
     "name": "stdout",
     "output_type": "stream",
     "text": [
      "Hola, soy Juan y tengo 23 años\n"
     ]
    }
   ],
   "source": [
    "def saludo():\n",
    "    nombre = input('Ingrese su nombre')\n",
    "    edad = input('ingrese su edad')\n",
    "    print(f'Hola, soy {nombre} y tengo {edad} años')\n",
    "\n",
    "print('hola')\n",
    "\n",
    "saludo()"
   ]
  },
  {
   "cell_type": "code",
   "execution_count": 54,
   "id": "3faa192d",
   "metadata": {},
   "outputs": [
    {
     "name": "stdout",
     "output_type": "stream",
     "text": [
      "Hola, soy Pedro y tengo 43 años\n"
     ]
    }
   ],
   "source": [
    "saludo()"
   ]
  },
  {
   "cell_type": "markdown",
   "id": "1b0aa975",
   "metadata": {},
   "source": [
    "## Challenge 🤺 - 20m\n",
    "\n",
    "`Crear` una función de un proceso que se les ocurra que tenga `varios` pasos.\n",
    "\n",
    "- Ejecutar la función 3 veces."
   ]
  },
  {
   "cell_type": "markdown",
   "id": "42e366a8",
   "metadata": {},
   "source": [
    "### Lujan"
   ]
  },
  {
   "cell_type": "code",
   "execution_count": null,
   "id": "b46e3466",
   "metadata": {},
   "outputs": [
    {
     "name": "stdout",
     "output_type": "stream",
     "text": [
      "\n",
      "si\n",
      "netflix\n",
      "Varios\n",
      "no\n",
      "no tengo\n",
      "magis\n",
      "friends\n",
      "si \n",
      "si\n",
      "hbo\n",
      "got\n"
     ]
    }
   ],
   "source": [
    "def pasos():\n",
    "    paso1= (input(\"Verificar si esta encendido su televisor\"))\n",
    "    print(paso1)\n",
    "    \n",
    "    paso2= (input(\"Verificar su conexión a internet\"))\n",
    "    print(paso2)\n",
    "    paso3= (input(\"Entrar en la app de su prefrencia\"))\n",
    "    print (paso3)\n",
    "    paso4= (input(\"Elegir la serie o película de su prefrencia\"))\n",
    "    print (paso4)\n",
    "\n",
    "pasos()\n",
    "\n",
    "pasos()\n",
    "\n",
    "pasos()"
   ]
  },
  {
   "cell_type": "markdown",
   "id": "3eb0e4f0",
   "metadata": {},
   "source": [
    "### Ara"
   ]
  },
  {
   "cell_type": "code",
   "execution_count": 56,
   "id": "88d5bb47",
   "metadata": {},
   "outputs": [
    {
     "name": "stdout",
     "output_type": "stream",
     "text": [
      "El total de ventas del producto Coca es de: 160000\n",
      "El total de ventas del producto Fanta es de: 75000\n",
      "El total de ventas del producto Sprite es de: 32500\n"
     ]
    }
   ],
   "source": [
    "#Crear una función de un proceso que se les ocurra que tenga varios pasos.\n",
    "def suma_de_ventas():\n",
    "    producto = input('Ingrese el nombre del producto')\n",
    "    precio_producto = int (input('Ingrese el valor del producto'))\n",
    "    cant_producto_vendido = int(input('Ingrese la cantidad de producto vendido'))\n",
    "    cant_total = precio_producto * cant_producto_vendido\n",
    "    print(f'El total de ventas del producto {producto} es de: {cant_total}')\n",
    "suma_de_ventas()\n",
    "suma_de_ventas()\n",
    "suma_de_ventas()"
   ]
  },
  {
   "cell_type": "markdown",
   "id": "f8741dff",
   "metadata": {},
   "source": [
    "## Parámetros y argumentos\n",
    "\n",
    "A veces queremos ejecutar \"casi\" la misma función varias veces. Por ejemplo, si somos vendedores de autos...\n",
    "\n",
    "Las funciones pueden recibir información desde afuera, para poder hacer cosas diferentes cada vez que se usan. Esa información se pasa a través de parámetros (cuando definimos la función) y argumentos (cuando llamamos a la función)."
   ]
  },
  {
   "cell_type": "code",
   "execution_count": 65,
   "id": "7df9757f",
   "metadata": {},
   "outputs": [
    {
     "name": "stdout",
     "output_type": "stream",
     "text": [
      "Hola, soy Eduardo y tengo 20 años\n",
      "Hola, soy Eduardo y tengo 30 años\n",
      "Hola, soy Pedro y tengo 18 años\n"
     ]
    }
   ],
   "source": [
    "def saludo(nombre, edad):\n",
    "    print(f'Hola, soy {nombre} y tengo {edad} años')\n",
    "\n",
    "saludo('Eduardo',20)\n",
    "saludo('Eduardo', 30)\n",
    "saludo('Pedro', 18)"
   ]
  },
  {
   "cell_type": "code",
   "execution_count": null,
   "id": "7b675cff",
   "metadata": {},
   "outputs": [
    {
     "name": "stdout",
     "output_type": "stream",
     "text": [
      "Cortar Tomate\n",
      "Mezclar tartara\n",
      "Colocamos en el plato\n",
      "Cortar cebolla\n",
      "Mezclar de ajo\n",
      "Colocamos en el bowl\n",
      "Cortar \n",
      "Mezclar \n",
      "Colocamos en el \n"
     ]
    }
   ],
   "source": [
    "def preparar_ensalada(ingrediente1, recipiente, salsa):\n",
    "    print(f'Cortar {ingrediente1}')\n",
    "    print(f'Mezclar {salsa}')\n",
    "    print(f'Colocamos en el {recipiente}')\n",
    "\n",
    "preparar_ensalada('Tomate', 'plato', 'tartara')\n",
    "\n",
    "preparar_ensalada('cebolla', 'bowl', 'de ajo')\n",
    "\n",
    "\n",
    "\n",
    "preparar_ensalada(ingrediente, recipiente, salsa)"
   ]
  },
  {
   "cell_type": "markdown",
   "id": "e4239e5a",
   "metadata": {},
   "source": [
    "## Challenge 🤺 - 25m\n",
    "\n",
    "Escribir una funcion que nos pregunte las caracteristicas de un elemento a comprar e imprima el elemento con sus caracteristicas."
   ]
  },
  {
   "cell_type": "code",
   "execution_count": 69,
   "id": "52f4a4bc",
   "metadata": {},
   "outputs": [
    {
     "name": "stdout",
     "output_type": "stream",
     "text": [
      "Cortar cebolla\n",
      "Mezclar de ajo\n",
      "Colocamos en el plato\n"
     ]
    }
   ],
   "source": [
    "ingrediente_usuario = input('Que ingrediente desea')\n",
    "recipiente_usuario = input('Elegi tu recipiente')\n",
    "salsa_usuario = input('Elegi tu salsa')\n",
    "\n",
    "preparar_ensalada(ingrediente_usuario, recipiente_usuario, salsa_usuario)"
   ]
  },
  {
   "cell_type": "markdown",
   "id": "821cfac1",
   "metadata": {},
   "source": [
    "### Sofia"
   ]
  },
  {
   "cell_type": "code",
   "execution_count": 70,
   "id": "58faee89",
   "metadata": {},
   "outputs": [
    {
     "name": "stdout",
     "output_type": "stream",
     "text": [
      "\n",
      " Sale pedido \n",
      "🫖 El cliente pidió un filtrado expresso \n",
      "☕️ Es tipo latte \n",
      "🥛 Con leche entera \n",
      "🧋 agregado? : syrup de vainilla \n",
      "\n",
      "*   *   *\n",
      "\n",
      " Sale pedido \n",
      "🫖 El cliente pidió un filtrado coldbrew \n",
      "☕️ Es tipo americano \n",
      "🥛 Con nada de leche \n",
      "🧋 agregado? : no \n",
      "\n",
      "*   *   *\n",
      "\n",
      " Sale pedido \n",
      "🫖 El cliente pidió un filtrado filtrado \n",
      "☕️ Es tipo cortado \n",
      "🥛 Con leche deslactosada \n",
      "🧋 agregado? : canela \n",
      "\n",
      "*   *   *\n"
     ]
    }
   ],
   "source": [
    "def pedido_cafeteria (tipo_brew, tipo_cafe, tipo_leche,agregado):\n",
    "    print('\\n Sale pedido ')\n",
    "    print(f'🫖 El cliente pidió un filtrado {tipo_brew} ')\n",
    "    print(f'☕️ Es tipo {tipo_cafe} ')\n",
    "    print(f'🥛 Con {tipo_leche} ')\n",
    "    print(f'🧋 agregado? : {agregado} ')\n",
    "    print('\\n*   *   *')\n",
    "\n",
    "\n",
    "pedido_cafeteria('expresso','latte','leche entera','syrup de vainilla')\n",
    "pedido_cafeteria('coldbrew','americano','nada de leche','no')\n",
    "pedido_cafeteria('filtrado', 'cortado','leche deslactosada' ,'canela')"
   ]
  },
  {
   "cell_type": "code",
   "execution_count": 71,
   "id": "733d0465",
   "metadata": {},
   "outputs": [
    {
     "name": "stdout",
     "output_type": "stream",
     "text": [
      "Caracteristicas de la gaseosa a comprar\n",
      "Sabor: 1.5\n",
      "litro: coca\n",
      "Temperatura: helado\n"
     ]
    }
   ],
   "source": [
    "#definir funcion\n",
    "def caracteristicas_gaseosa(litro, sabor, temperatura):\n",
    "    print(\"Caracteristicas de la gaseosa a comprar\")\n",
    "    print(f\"Sabor: {sabor}\")\n",
    "    print(f\"litro: {litro}\")\n",
    "    print(f\"Temperatura: {temperatura}\")\n",
    "\n",
    "#pedir datos al usuario\n",
    "sabor = input(\"Ingrese el sabor de la gaseosa: \")\n",
    "litro = input(\"Ingrese el litro de la gaseosa: \")\n",
    "temperatura = input(\"Ingrese la temperatura de la gaseosa \")\n",
    "\n",
    "#llamar variable\n",
    "caracteristicas_gaseosa(sabor, litro, temperatura)"
   ]
  },
  {
   "cell_type": "markdown",
   "id": "b761575a",
   "metadata": {},
   "source": [
    "## Alcance (Scope)\n",
    "\n",
    "Cuando usamos variables en Python, tenemos que entender dónde viven esas variables, es decir, su alcance o scope.\n",
    "\n",
    "Hay dos tipos principales:\n",
    "\n",
    "🔸 Alcance local: la variable vive dentro de una función y solo se puede usar ahí.\n",
    "\n",
    "🔹 Alcance global: la variable vive fuera de todas las funciones y se puede usar en todo el programa.\n",
    "\n",
    "Qué pasa si con una función, queremos modificar una variable que declaramos más arriba?"
   ]
  },
  {
   "cell_type": "code",
   "execution_count": null,
   "id": "698d2e9d",
   "metadata": {},
   "outputs": [
    {
     "name": "stdout",
     "output_type": "stream",
     "text": [
      "Estoy usando jamón\n"
     ]
    }
   ],
   "source": [
    "def preparar_sandwich():\n",
    "    ingrediente = \"jamón\"\n",
    "    print(f\"Estoy usando {ingrediente}\")\n",
    "\n",
    "preparar_sandwich()\n",
    "\n"
   ]
  },
  {
   "cell_type": "code",
   "execution_count": 75,
   "id": "46eb4788",
   "metadata": {},
   "outputs": [
    {
     "name": "stdout",
     "output_type": "stream",
     "text": [
      "Estoy usando jamon\n",
      "jamon\n"
     ]
    }
   ],
   "source": [
    "ingrediente = 'jamon'\n",
    "\n",
    "def preparar_sandwich(ingrediente):\n",
    "    print(f\"Estoy usando {ingrediente}\")\n",
    "\n",
    "preparar_sandwich(ingrediente)\n",
    "\n",
    "print(ingrediente)"
   ]
  }
 ],
 "metadata": {
  "kernelspec": {
   "display_name": "Python 3",
   "language": "python",
   "name": "python3"
  },
  "language_info": {
   "codemirror_mode": {
    "name": "ipython",
    "version": 3
   },
   "file_extension": ".py",
   "mimetype": "text/x-python",
   "name": "python",
   "nbconvert_exporter": "python",
   "pygments_lexer": "ipython3",
   "version": "3.12.6"
  }
 },
 "nbformat": 4,
 "nbformat_minor": 5
}
