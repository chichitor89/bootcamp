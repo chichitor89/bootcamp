{
 "cells": [
  {
   "cell_type": "markdown",
   "id": "38ddec44",
   "metadata": {},
   "source": [
    "###Repaso\n",
    "- Variables\n",
    "- Tipos de datos:\n",
    "    - str - string - Texto\n",
    "    - int - integer - Enteros\n",
    "    - bool - boolean - True - False\n",
    "    - float - floating - Decimales\n",
    "- Operadores aritmeticos\n",
    "    - `+`\n",
    "    - `-` \n",
    "    - `*`\n",
    "    - `/`\n",
    "    - `//`\n",
    "    - `%` \n",
    "- Concatenacion\n",
    "    - `+`\n",
    "    - `f`\n",
    "- funciones\n",
    "    - `def`\n",
    "    - `Parametros`\n",
    "    - `Argumentos`\n",
    "- Variables \n",
    "    - `Locales`\n",
    "    - `Globales`"
   ]
  },
  {
   "cell_type": "code",
   "execution_count": null,
   "id": "39524924",
   "metadata": {},
   "outputs": [
    {
     "name": "stdout",
     "output_type": "stream",
     "text": [
      "Verificar la marca: Toyota\n",
      "Retirar el vehiculo\n",
      "Cobrar el servicio\n",
      "entregar al dueño\n"
     ]
    }
   ],
   "source": [
    "def buscar_auto(marca,color,chapa, modelo):\n",
    "    print(f'Verificar la marca: {marca}')\n",
    "    print('Retirar el vehiculo')\n",
    "    print('Cobrar el servicio')\n",
    "    print('entregar al dueño')\n",
    "\n",
    "marca_del_vehiculo_usuario = input('Ingresa la marca de tu vehiculo: ')\n",
    "color_del_vehiculo_usuario = input('Ingresa la color de tu vehiculo: ')\n",
    "chapa_del_vehiculo_usuario = input('Ingresa la chapa de tu vehiculo: ')\n",
    "modelo_del_vehiculo_usuario = input('Ingresa la modelo de tu vehiculo: ')\n",
    "\n",
    "buscar_auto(marca_del_vehiculo_usuario,color_del_vehiculo_usuario, chapa_del_vehiculo_usuario, modelo_del_vehiculo_usuario)\n"
   ]
  },
  {
   "cell_type": "code",
   "execution_count": 2,
   "id": "590920fd",
   "metadata": {},
   "outputs": [
    {
     "name": "stdout",
     "output_type": "stream",
     "text": [
      "Verificar los datos\n",
      "Retirar el vehiculo\n",
      " Cobrar el servicio\n",
      "entregar al dueño\n"
     ]
    }
   ],
   "source": [
    "buscar_auto(color_del_vehiculo_usuario,marca_del_vehiculo_usuario,modelo_del_vehiculo_usuario,marca_del_vehiculo_usuario)\n",
    "\n"
   ]
  },
  {
   "cell_type": "markdown",
   "id": "7b6bb7cb",
   "metadata": {},
   "source": [
    "### Condicionales\n",
    "Ya conocemos el flujo de python, línea por línea.\n",
    "Las condicionales nos permiten validar una condicion en especifico para asi permitir o denegar que python ejecute una instruccion o pase a la siguente. \n",
    "\n",
    "Es como un guardia en una puerta controlando si las personas pueden o no ingresar a un lugar"
   ]
  },
  {
   "cell_type": "markdown",
   "id": "44604b0b",
   "metadata": {},
   "source": [
    "### `Operadores de comparacion`\n",
    "- `>` - mayor que otro \n",
    "- `<` - menor que otro\n",
    "- `>=` - mayor o igual que otro   \n",
    "- `<=` - menor o igual que otro\n",
    "- `==` - igual a otro     \n",
    "- `!=` - desigual o distinto a otro"
   ]
  },
  {
   "cell_type": "code",
   "execution_count": 12,
   "id": "f246e85b",
   "metadata": {},
   "outputs": [
    {
     "name": "stdout",
     "output_type": "stream",
     "text": [
      "False\n",
      "False\n"
     ]
    }
   ],
   "source": [
    "#print('variable' == 1 )\n",
    "\n",
    "edad1 = 15\n",
    "edad2 = 19.5\n",
    "nombre1 = 'Ana'\n",
    "nombre2 = 'ana'\n",
    "\n",
    "print(edad1 > edad2)\n",
    "\n",
    "print(nombre1 == nombre2)"
   ]
  },
  {
   "cell_type": "code",
   "execution_count": null,
   "id": "d0b487a1",
   "metadata": {},
   "outputs": [
    {
     "name": "stdout",
     "output_type": "stream",
     "text": [
      "Es mayor de edad\n"
     ]
    }
   ],
   "source": [
    "edad = 18\n",
    "\n",
    "#Estoy usando una condicional\n",
    "if edad < 18:\n",
    "    print('es menor de edad')\n",
    "\n",
    "else:\n",
    "    print('Es mayor de edad')"
   ]
  },
  {
   "cell_type": "code",
   "execution_count": 17,
   "id": "b42e89dc",
   "metadata": {},
   "outputs": [
    {
     "name": "stdout",
     "output_type": "stream",
     "text": [
      "Jubilado\n"
     ]
    }
   ],
   "source": [
    "edad_laboral = 80\n",
    "\n",
    "if edad_laboral <= 18:\n",
    "    print('Estudiante') \n",
    "\n",
    "elif edad_laboral > 65:\n",
    "    print('Jubilado')\n",
    "\n",
    "else:\n",
    "    print('Activo laboralmente')"
   ]
  },
  {
   "cell_type": "markdown",
   "id": "cd39ef31",
   "metadata": {},
   "source": [
    "## Challenge🤺 - 20m\n",
    "\n",
    "Escribe un programa que `pregunte` al usuario por su edad y determine si tiene edad suficiente para comprar y consumir alcohol.\n",
    "- Si el usuario `tiene mas de 18 pero menos de 21 impirmir` \"Podes tomar pero no comprar\"\n",
    "- Si el usuario `tiene menos de 18` imprimir \"Juguito nomas\"\n",
    "- Si el usuario `tiene mas de 21` imprimir \"Hace lo que quieras\""
   ]
  },
  {
   "cell_type": "markdown",
   "id": "a46acb2e",
   "metadata": {},
   "source": [
    "### Jessy 💜"
   ]
  },
  {
   "cell_type": "code",
   "execution_count": 22,
   "id": "13dd6cc6",
   "metadata": {},
   "outputs": [
    {
     "name": "stdout",
     "output_type": "stream",
     "text": [
      "Podes tomar pero no comprar\n"
     ]
    }
   ],
   "source": [
    "def acto_para_tomar(edad):\n",
    "    if edad < 18:\n",
    "        print('Juguito nomas')\n",
    "    elif edad < 21:\n",
    "        print('Podes tomar pero no comprar')\n",
    "    else:\n",
    "        print('Hace lo que quieras')\n",
    "\n",
    "edad_para_tomar = int(input('Ingrese su edad, por favor'))\n",
    "\n",
    "acto_para_tomar(edad_para_tomar)"
   ]
  },
  {
   "cell_type": "markdown",
   "id": "e66769dd",
   "metadata": {},
   "source": [
    "### Andy 🍓"
   ]
  },
  {
   "cell_type": "code",
   "execution_count": 21,
   "id": "de27dbae",
   "metadata": {},
   "outputs": [
    {
     "name": "stdout",
     "output_type": "stream",
     "text": [
      "Juguito nomas\n"
     ]
    }
   ],
   "source": [
    "edad = int(input(\"Ingrese su edad\"))\n",
    "\n",
    "if edad <= 18:\n",
    "    print(\"Juguito nomas\")\n",
    "\n",
    "elif edad < 21:\n",
    "    print(\"Podes tomar pero no comprar\")\n",
    "\n",
    "else:\n",
    "    print(\"Hace lo que quieras\")"
   ]
  },
  {
   "cell_type": "markdown",
   "id": "00630605",
   "metadata": {},
   "source": [
    "### Dos condiciones a la vez - Opeardores lógicos\n",
    "\n",
    "### `Operadores lógicos`\n",
    "- `and` (y) - ambas condiciones deben ser verdaderas    \n",
    "- `or` (o) - al menos una de las condiciones debe ser verdadera\n",
    "- `not` (no) - invierte el valor de la condicion"
   ]
  },
  {
   "cell_type": "code",
   "execution_count": null,
   "id": "4c632b27",
   "metadata": {},
   "outputs": [],
   "source": [
    "edad_laboral = 17\n",
    "trabaja = True\n",
    "\n",
    "if edad_laboral < 18 and trabaja == True:\n",
    "    print('Es menor pero trabaja')\n",
    "\n",
    "elif edad_laboral < 18 and trabaja == False:\n",
    "    print('Estudiante, menor de edad')\n",
    "\n",
    "elif edad_laboral < 65 and trabaja == False:\n",
    "    print('Desempleado')\n",
    "\n",
    "elif edad_laboral < 65 and trabaja == True:\n",
    "    print('Activo laboralmente')\n",
    "\n",
    "else:\n",
    "    print('Jubilado')"
   ]
  },
  {
   "cell_type": "markdown",
   "id": "1ec3d3c2",
   "metadata": {},
   "source": [
    "### Challenge 🤺 - 30m\n",
    "\n",
    "Escribir un programa en el que se `pregunte` al usuario por una temperatura (en grados Celsius), `imprima la temperatura escrita`, y luego `clasificar la temperatura` ingresada en los siguientes niveles:\n",
    "\n",
    "- `Entre -10 y 18 grados`, que imprima \"Fresquete\".\n",
    "- `Entre 19 y 30 grados`, que imprima \"Calor'i\".\n",
    "- `Entre 31 y 45 grados`, que imprima \"Hakuuuuuu\".\n",
    "- `Para todo lo demás`, imprimir \"Ñamano mba'e!\"."
   ]
  },
  {
   "cell_type": "markdown",
   "id": "cdcd04d7",
   "metadata": {},
   "source": [
    "### Alex 🥞"
   ]
  },
  {
   "cell_type": "code",
   "execution_count": 23,
   "id": "32b7218d",
   "metadata": {},
   "outputs": [
    {
     "name": "stdout",
     "output_type": "stream",
     "text": [
      "Ñamano mba´e\n"
     ]
    }
   ],
   "source": [
    "#Fresquete 18 / 19 Calor.i 30 / 31 Hakuu 45 / 46 Ñamano mba´e___ + ∞ /\n",
    "\n",
    "temperatura = float(input('Ingrese la temperatura en grados celsius'))\n",
    "\n",
    "if ( temperatura >= -10 ) and ( temperatura <= 18 ):\n",
    "\n",
    "    print('Fresquete')\n",
    "\n",
    "elif ( temperatura >= 19 ) and ( temperatura <= 30 ):\n",
    "\n",
    "    print('Calor´i')\n",
    "\n",
    "elif ( temperatura >= 31 ) and ( temperatura <= 45 ):\n",
    "\n",
    "    print('Hakuu')\n",
    "\n",
    "else:\n",
    "\n",
    "    print('Ñamano mba´e')"
   ]
  },
  {
   "cell_type": "markdown",
   "id": "91d57d58",
   "metadata": {},
   "source": [
    "### Rod 🌮"
   ]
  },
  {
   "cell_type": "code",
   "execution_count": 24,
   "id": "ba97b98c",
   "metadata": {},
   "outputs": [
    {
     "name": "stdout",
     "output_type": "stream",
     "text": [
      "La temperatura es de 1 grados Celsius\n",
      "Fresquete\n"
     ]
    }
   ],
   "source": [
    "def confort():\n",
    "\n",
    "    if temperatura >= -10 and temperatura <= 18:\n",
    "        print(\"Fresquete\")\n",
    "\n",
    "    elif temperatura > 18 and temperatura <= 30:\n",
    "        print(\"Calor'i\")\n",
    "\n",
    "    elif temperatura > 30 and temperatura <= 45:\n",
    "        print(\"Hakuuuuu\")\n",
    "\n",
    "    else:\n",
    "        print(\"Nhamano mba'e!\")\n",
    "\n",
    "temperatura = int(input(\"Ingrese la temperatura actual en grados Celsius: \"))\n",
    "\n",
    "print(f\"La temperatura es de {temperatura} grados Celsius\")\n",
    "\n",
    "confort()"
   ]
  },
  {
   "cell_type": "code",
   "execution_count": null,
   "id": "6283519d",
   "metadata": {},
   "outputs": [],
   "source": [
    "confort()"
   ]
  },
  {
   "cell_type": "markdown",
   "id": "207bb404",
   "metadata": {},
   "source": [
    "## Bucles condicionales\n",
    "While nos permite ejecutar una serie de instrucciones mientras una condicion se cumpla. Al momento que la condicion deje de ser cierta el bucle va parar.\n"
   ]
  },
  {
   "cell_type": "code",
   "execution_count": null,
   "id": "c8e60038",
   "metadata": {},
   "outputs": [
    {
     "name": "stdout",
     "output_type": "stream",
     "text": [
      "adivinaste\n"
     ]
    }
   ],
   "source": [
    "numero_a_adivinar = 15\n",
    "numero = \n",
    "\n",
    "\n",
    "while numero != numero_a_adivinar:\n",
    "    numero = int(input('introduce un numero'))\n",
    "    print(numero)\n",
    "\n",
    "print('adivinaste')\n",
    "\n"
   ]
  },
  {
   "cell_type": "markdown",
   "id": "e7f56080",
   "metadata": {},
   "source": [
    "### Bucles infinitos y su utilidad\n",
    "Un bucle infinito sucede cuando la condicion siempre es cierta y por lo tanto el bucle no termina de ejecutarse. \"Break\" es una palabra reservada que nos permite salir de un bucle."
   ]
  },
  {
   "cell_type": "code",
   "execution_count": null,
   "id": "80965d35",
   "metadata": {},
   "outputs": [
    {
     "ename": "NameError",
     "evalue": "name 'numero_ingresado' is not defined",
     "output_type": "error",
     "traceback": [
      "\u001b[1;31m---------------------------------------------------------------------------\u001b[0m",
      "\u001b[1;31mNameError\u001b[0m                                 Traceback (most recent call last)",
      "Cell \u001b[1;32mIn[1], line 4\u001b[0m\n\u001b[0;32m      1\u001b[0m \u001b[38;5;28;01mwhile\u001b[39;00m \u001b[38;5;28;01mTrue\u001b[39;00m:\n\u001b[1;32m----> 4\u001b[0m     \u001b[38;5;28;01mif\u001b[39;00m \u001b[43mnumero_ingresado\u001b[49m \u001b[38;5;241m==\u001b[39m numero:\n\u001b[0;32m      5\u001b[0m         \u001b[38;5;28mprint\u001b[39m(\u001b[38;5;124m'\u001b[39m\u001b[38;5;124mEl numero es correcto\u001b[39m\u001b[38;5;124m'\u001b[39m)\n\u001b[0;32m      6\u001b[0m         \u001b[38;5;28;01mbreak\u001b[39;00m\n",
      "\u001b[1;31mNameError\u001b[0m: name 'numero_ingresado' is not defined"
     ]
    }
   ],
   "source": [
    "\n",
    "\n",
    "while True:\n",
    "    numero_ingresado = int(input('Ingrese un numero'))\n",
    "    \n",
    "    if numero_ingresado == numero:\n",
    "        print('El numero es correcto')\n",
    "        break\n",
    "    \n",
    "    else:\n",
    "        print('el numero es incorrecto')        \n"
   ]
  },
  {
   "cell_type": "code",
   "execution_count": 2,
   "id": "2c1d14d8",
   "metadata": {},
   "outputs": [],
   "source": [
    "contrasenha = \"12345\""
   ]
  },
  {
   "cell_type": "markdown",
   "id": "f9d10c7e",
   "metadata": {},
   "source": [
    "### Challenge 🤺 - 20m\n",
    "Escribir un programa que `almacene` una contraseña en una `variable`, y `pregunte al usuario` por la contraseña `hasta que` introduzca la contraseña correcta.\n",
    "\n",
    "Cuando el usuario ingrese la `contrasena correcta`, `imprimir` un mensaje secreto."
   ]
  },
  {
   "cell_type": "markdown",
   "id": "eb40b076",
   "metadata": {},
   "source": [
    "### Lujan🍟"
   ]
  },
  {
   "cell_type": "code",
   "execution_count": 6,
   "id": "78c3cd00",
   "metadata": {},
   "outputs": [
    {
     "name": "stdout",
     "output_type": "stream",
     "text": [
      "Correcto!!!, regalame stickerss 🙂 \n"
     ]
    }
   ],
   "source": [
    "# #3er Challenge\n",
    "# #Escribir un programa que almacene una contraseña en una variable, \n",
    "# y pregunte al usuario por la contraseña hasta que introduzca\n",
    "# la contraseña correcta.\n",
    "# Cuando el usuario ingrese la contrasena correcta, imprimir un mensaje secreto.\n",
    "contrasenha = \"12345\"\n",
    "\n",
    "contrasenha_ingresada = input(\"Ingrese una contraseña de 5 digitos\")\n",
    "\n",
    "while contrasenha != contrasenha_ingresada:\n",
    "    print(\"Contraseña incorrecta, intente de nuevo!\")\n",
    "    contrasenha_ingresada=input(\"Ingrese una contraseña de 5 digitos\")\n",
    "\n",
    "print(\"Correcto!!!, regalame stickerss 🙂 \")"
   ]
  },
  {
   "cell_type": "markdown",
   "id": "7f1c54c9",
   "metadata": {},
   "source": [
    "### Gonza🥩"
   ]
  },
  {
   "cell_type": "code",
   "execution_count": 8,
   "id": "62bc4190",
   "metadata": {},
   "outputs": [
    {
     "name": "stdout",
     "output_type": "stream",
     "text": [
      "Felicidades, cumpliste con la condición del challenge, sigue así\n"
     ]
    }
   ],
   "source": [
    "contraseña = 1234\n",
    "def bypass():\n",
    "    while True:\n",
    "        contraseña_usuario = int(input(\"Ingrese su contraseña \"))\n",
    "        if contraseña == contraseña_usuario:\n",
    "            print(\"Felicidades, cumpliste con la condición del challenge, sigue así\")\n",
    "            break\n",
    "        else:\n",
    "            print(f\"la contraseña {contraseña_usuario} está errada, intente nuevamente\")\n",
    "\n",
    "bypass()"
   ]
  },
  {
   "cell_type": "markdown",
   "id": "60412f6f",
   "metadata": {},
   "source": [
    "## Listas\n",
    "Una lista es una agrupación de objetos, que pueden ser de distintos tipos de datos. Las construimos colocando los elementos entre corchetes [ ] y separados por comas."
   ]
  },
  {
   "cell_type": "code",
   "execution_count": 22,
   "id": "8e217293",
   "metadata": {},
   "outputs": [
    {
     "name": "stdout",
     "output_type": "stream",
     "text": [
      "manzana\n",
      "True\n",
      "['manzana', 'pera', 'piña', 'kiwi']\n",
      "['manzana', 'Banana', 'piña', 'kiwi']\n",
      "['str', True, 3.2]\n",
      "['manzana', 'Banana', 'kiwi']\n",
      "3\n"
     ]
    }
   ],
   "source": [
    "lista_frutas = ['manzana', 'pera', 'piña']\n",
    "lista_variada = [1, 'str', True, 3.2]\n",
    "\n",
    "# Un índice es un número entero que indica la posición de un elemento en una lista\n",
    "print(lista_frutas[0])\n",
    "print(lista_variada[2])\n",
    "\n",
    "#Agregar un elemento a la lista\n",
    "lista_frutas.append('kiwi')\n",
    "print(lista_frutas)\n",
    "\n",
    "#Modificar un elemento de la lista\n",
    "lista_frutas[1] = 'Banana'\n",
    "print(lista_frutas)\n",
    "\n",
    "#Eliminar el elemento especificando el valor\n",
    "lista_variada.remove(1)\n",
    "print(lista_variada)\n",
    "\n",
    "lista_frutas.pop(2)\n",
    "print(lista_frutas)\n",
    "\n",
    "print(len(lista_frutas))\n"
   ]
  },
  {
   "cell_type": "markdown",
   "id": "172151ae",
   "metadata": {},
   "source": [
    "### Challenge 🤺 - 10m\n",
    "\n",
    "Crear una lista de 5 elementos. Luego, seguir los siguientes pasos.\n",
    "\n",
    "- `Agregar` un elemento al final de la lista.\n",
    "\n",
    "- `Modificar` el segundo elemento.\n",
    "\n",
    "- `Eliminar` el tercer elemento."
   ]
  },
  {
   "cell_type": "markdown",
   "id": "faf3ed36",
   "metadata": {},
   "source": [
    "### Maxi 🍋"
   ]
  },
  {
   "cell_type": "code",
   "execution_count": 21,
   "id": "fb7fd777",
   "metadata": {},
   "outputs": [
    {
     "name": "stdout",
     "output_type": "stream",
     "text": [
      "la lista original es: ['hola', 'mundo', True, 1]\n",
      "la nueva lista es (1): ['hola', 'mundo', True, 1, 3.0]\n",
      "la nueva lista es (2): ['hola', 'penguin', True, 1, 3.0]\n",
      "la nueva lista es (3): ['hola', 'penguin', 1, 3.0]\n"
     ]
    }
   ],
   "source": [
    "lista = [\"hola\", \"mundo\", True, 1]\n",
    "print(f\"la lista original es: {lista}\")\n",
    "\n",
    "lista.append(3.0)\n",
    "print(f\"la nueva lista es (1): {lista}\")\n",
    "\n",
    "lista[1] = \"penguin\"\n",
    "print(f\"la nueva lista es (2): {lista}\")\n",
    "\n",
    "lista.pop(2)\n",
    "print(f\"la nueva lista es (3): {lista}\")"
   ]
  },
  {
   "cell_type": "markdown",
   "id": "dc707c2d",
   "metadata": {},
   "source": [
    "### Nico 🥢"
   ]
  },
  {
   "cell_type": "code",
   "execution_count": null,
   "id": "8a9acab2",
   "metadata": {},
   "outputs": [
    {
     "name": "stdout",
     "output_type": "stream",
     "text": [
      "['cuaderno', 'boligrafo', 'lapiz', 'borrador', 'pincel']\n",
      "['cuaderno', 'boligrafo', 'lapiz', 'borrador', 'pincel', 'libro']\n",
      "['cuaderno', 'cartulina', 'lapiz', 'borrador', 'pincel', 'libro']\n",
      "['cuaderno', 'cartulina', 'borrador', 'pincel', 'libro']\n"
     ]
    }
   ],
   "source": [
    "#Crear una lista de 5 elementos. Luego, seguir los siguientes pasos.\n",
    "\n",
    "lista_de_utiles = [\"cuaderno\" , \"boligrafo\" , \"lapiz\" , \"borrador\" , \"pincel\"]\n",
    "print(lista_de_utiles)\n",
    "\n",
    "#Agregar un elemento al final de la lista.\n",
    "lista_de_utiles.append(\"libro\")\n",
    "print(lista_de_utiles)\n",
    "\n",
    "#Modificar el segundo elemento.\n",
    "lista_de_utiles[1] = \"cartulina\"\n",
    "print(lista_de_utiles)\n",
    "\n",
    "#Eliminar el tercer elemento.\n",
    "lista_de_utiles.remove(\"lapiz\")\n",
    "print(lista_de_utiles)\n"
   ]
  },
  {
   "cell_type": "markdown",
   "id": "d8cc186e",
   "metadata": {},
   "source": [
    "## Bucles iterativos (for)\n",
    "Cuando queremos repetir una acción una cierta cantidad de veces, podemos utilizar un bucle iterativo.\n",
    "\n",
    "Iteraciones: una acción repetida una cierta cantidad de veces, pero en cada repetición se tiene en cuenta el valor anterior."
   ]
  },
  {
   "cell_type": "code",
   "execution_count": 23,
   "id": "d415813f",
   "metadata": {},
   "outputs": [
    {
     "name": "stdout",
     "output_type": "stream",
     "text": [
      "Hola gente\n",
      "Hola gente\n",
      "Hola gente\n",
      "Hola gente\n",
      "Hola gente\n"
     ]
    }
   ],
   "source": [
    "for i in range(5):\n",
    "    print('Hola gente')"
   ]
  },
  {
   "cell_type": "code",
   "execution_count": 24,
   "id": "5d5b2da8",
   "metadata": {},
   "outputs": [
    {
     "name": "stdout",
     "output_type": "stream",
     "text": [
      "0\n",
      "1\n",
      "2\n",
      "3\n",
      "4\n"
     ]
    }
   ],
   "source": [
    "for iterador in range(5):\n",
    "    print(iterador)"
   ]
  },
  {
   "cell_type": "markdown",
   "id": "e49f0d07",
   "metadata": {},
   "source": [
    "### Challenge 🤺 - 15m\n",
    "\n",
    "Escribir un programa que itere en un rango de 10 veces. Por cada iteracion multiplicar el iterador por dos e imprimir el resultado."
   ]
  },
  {
   "cell_type": "markdown",
   "id": "b20ce120",
   "metadata": {},
   "source": [
    "### Xavi 🍜"
   ]
  },
  {
   "cell_type": "code",
   "execution_count": 25,
   "id": "7091626b",
   "metadata": {},
   "outputs": [
    {
     "name": "stdout",
     "output_type": "stream",
     "text": [
      "0 - 0\n",
      "1 - 2\n",
      "2 - 4\n",
      "3 - 6\n",
      "4 - 8\n",
      "5 - 10\n",
      "6 - 12\n",
      "7 - 14\n",
      "8 - 16\n",
      "9 - 18\n"
     ]
    }
   ],
   "source": [
    "for i in range(10):\n",
    "    print(i,'-',i*2)"
   ]
  },
  {
   "cell_type": "markdown",
   "id": "edcad906",
   "metadata": {},
   "source": [
    "### Maxi 🎂"
   ]
  },
  {
   "cell_type": "code",
   "execution_count": 27,
   "id": "fa5bcb3f",
   "metadata": {},
   "outputs": [
    {
     "name": "stdout",
     "output_type": "stream",
     "text": [
      "El valor del iterador en la posicion 1 es de 2\n",
      "El valor del iterador en la posicion 2 es de 4\n",
      "El valor del iterador en la posicion 3 es de 6\n",
      "El valor del iterador en la posicion 4 es de 8\n",
      "El valor del iterador en la posicion 5 es de 10\n",
      "El valor del iterador en la posicion 6 es de 12\n",
      "El valor del iterador en la posicion 7 es de 14\n",
      "El valor del iterador en la posicion 8 es de 16\n",
      "El valor del iterador en la posicion 9 es de 18\n",
      "El valor del iterador en la posicion 10 es de 20\n"
     ]
    }
   ],
   "source": [
    "for i in range(10):\n",
    "    print (f'El valor del iterador en la posicion {i+1} es de {(i+1)*2}')"
   ]
  },
  {
   "cell_type": "code",
   "execution_count": 29,
   "id": "6b40130c",
   "metadata": {},
   "outputs": [
    {
     "name": "stdout",
     "output_type": "stream",
     "text": [
      "cuaderno\n",
      "boligrafo\n",
      "lapiz\n",
      "borrador\n",
      "pincel\n"
     ]
    }
   ],
   "source": [
    "lista_de_utiles = [\"cuaderno\" , \"boligrafo\" , \"lapiz\" , \"borrador\" , \"pincel\"]\n",
    "\n",
    "for utiles in lista_de_utiles:\n",
    "    print(utiles)"
   ]
  },
  {
   "cell_type": "markdown",
   "id": "9157397b",
   "metadata": {},
   "source": [
    "### Challenge 🤺 - 20m\n",
    "\n",
    "`Recorrer` los elementos de una lista de marcas e `imprimir` cada marca *__solamente__* si tiene 6 letras o más.\n",
    "\n"
   ]
  },
  {
   "cell_type": "markdown",
   "id": "e3b9404c",
   "metadata": {},
   "source": [
    "### Fiorella 🟫"
   ]
  },
  {
   "cell_type": "code",
   "execution_count": 31,
   "id": "98d17965",
   "metadata": {},
   "outputs": [
    {
     "name": "stdout",
     "output_type": "stream",
     "text": [
      "Coca Cola\n",
      "Adidas\n",
      "Miranda\n"
     ]
    }
   ],
   "source": [
    "lista_de_marcas= [\"Coca Cola\",\"Puma\",\"Nike\",\"Adidas\",\"Pepsi\",\"Miranda\"]\n",
    "\n",
    "for marcas in lista_de_marcas:\n",
    "    if len(marcas) >= 6:\n",
    "        print(marcas)"
   ]
  },
  {
   "cell_type": "markdown",
   "id": "8b84b517",
   "metadata": {},
   "source": [
    "### Jorge🥓🥚"
   ]
  },
  {
   "cell_type": "code",
   "execution_count": 30,
   "id": "9e323dd3",
   "metadata": {},
   "outputs": [
    {
     "name": "stdout",
     "output_type": "stream",
     "text": [
      "Continental\n",
      "Mburicao\n",
      "Paypal\n",
      "Google\n"
     ]
    }
   ],
   "source": [
    "marcas_totales = [\"Itau\",\"Continental\",\"Ueno\", \"Atlas\",\"Mburicao\",\"Paypal\", \"Google\"] #Primero crear lista. \n",
    "\n",
    "for marcas in marcas_totales: #Primeramente definir marcas. marcas es mi iteracion\n",
    "    if len (marcas) >= 6:\n",
    "        print (marcas)"
   ]
  },
  {
   "cell_type": "code",
   "execution_count": 32,
   "id": "c7c8549f",
   "metadata": {},
   "outputs": [
    {
     "name": "stdout",
     "output_type": "stream",
     "text": [
      "H\n",
      "o\n",
      "l\n",
      "a\n",
      " \n",
      "q\n",
      "u\n",
      "e\n",
      " \n",
      "t\n",
      "a\n",
      "l\n"
     ]
    }
   ],
   "source": [
    "frase = 'Hola que tal'\n",
    "\n",
    "for letra in frase:\n",
    "    print(letra)\n"
   ]
  },
  {
   "cell_type": "markdown",
   "id": "9b048bcf",
   "metadata": {},
   "source": [
    "### Challenge 🤺 - 10m\n",
    "\n",
    "`Solicitar al usuario` que ingrese una frase.\n",
    "\n",
    "`Imprimir` un mensaje cada vez que se `encuentre` una letra \"o\"."
   ]
  },
  {
   "cell_type": "code",
   "execution_count": null,
   "id": "1e8ca667",
   "metadata": {},
   "outputs": [
    {
     "name": "stdout",
     "output_type": "stream",
     "text": [
      "Encontre la letra O\n",
      "Encontre la letra O\n"
     ]
    }
   ],
   "source": [
    "frase = input('ingrese una frase')\n",
    "\n",
    "for letra in frase:\n",
    "    if letra == 'o' or letra == 'O':\n",
    "        print('Encontre la letra O')"
   ]
  }
 ],
 "metadata": {
  "kernelspec": {
   "display_name": "Python 3",
   "language": "python",
   "name": "python3"
  },
  "language_info": {
   "codemirror_mode": {
    "name": "ipython",
    "version": 3
   },
   "file_extension": ".py",
   "mimetype": "text/x-python",
   "name": "python",
   "nbconvert_exporter": "python",
   "pygments_lexer": "ipython3",
   "version": "3.12.6"
  }
 },
 "nbformat": 4,
 "nbformat_minor": 5
}
