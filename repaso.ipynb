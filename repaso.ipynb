{
 "cells": [
  {
   "cell_type": "code",
   "execution_count": 41,
   "id": "c32e570d",
   "metadata": {},
   "outputs": [
    {
     "name": "stdout",
     "output_type": "stream",
     "text": [
      "el numero -10 es negativo\n"
     ]
    }
   ],
   "source": [
    "#crea un programa que solicite un numero al usuario\n",
    "#y nos diga si el numero es : positivo, negativo o cero\n",
    "\n",
    "\n",
    "\n",
    "\n",
    "ingrese_numero = int(input('ingrese un numero'))\n",
    "\n",
    "def comparacion ():\n",
    "\n",
    "        if ingrese_numero > 0:\n",
    "            print(f'el numero {ingrese_numero} es positivo')\n",
    "\n",
    "        elif ingrese_numero == 0:\n",
    "            print(f'el numero cero')\n",
    "\n",
    "        else:\n",
    "            print(f'el numero {ingrese_numero} es negativo')\n",
    "\n",
    "comparacion ()"
   ]
  },
  {
   "cell_type": "code",
   "execution_count": null,
   "id": "6dcd3c30",
   "metadata": {},
   "outputs": [
    {
     "name": "stdout",
     "output_type": "stream",
     "text": [
      "2\n",
      "4\n",
      "6\n",
      "8\n",
      "10\n"
     ]
    }
   ],
   "source": [
    "#Teniendo una lista de números del 1 al 10, \n",
    "# crea un programa que muestre solo los numeros pares. \n",
    "\n",
    "#Luego sumar todos los números de la lista y mostrar el total.\n",
    "\n",
    "lista = list(range(1, 11))  \n",
    "\n",
    "for numeros in lista:\n",
    "    if numeros % 2 == 0:\n",
    "        print(numeros)\n",
    "\n",
    "\n"
   ]
  },
  {
   "cell_type": "code",
   "execution_count": 54,
   "id": "c331e8a4",
   "metadata": {},
   "outputs": [
    {
     "name": "stdout",
     "output_type": "stream",
     "text": [
      "1\n",
      "2\n",
      "3\n",
      "4\n"
     ]
    }
   ],
   "source": [
    "lista_numeros = list(range(1,5))\n",
    "\n",
    "for numeros in lista_numeros:\n",
    "    print(numeros)"
   ]
  },
  {
   "cell_type": "code",
   "execution_count": null,
   "id": "f568d889",
   "metadata": {},
   "outputs": [
    {
     "name": "stdout",
     "output_type": "stream",
     "text": [
      "2\n",
      "5\n",
      "4\n",
      "0\n",
      "El promedio es: 3.6666666666666665\n"
     ]
    }
   ],
   "source": [
    "#Crear una lista con números ingresados por el usuario hasta que escriba 0 (luego salir del bucle),\n",
    "#y luego mostrar el promedio.\n",
    "\n",
    "\n",
    "\n",
    "#Pedirle al usuario que ingrese números (uno a uno).#\n",
    "\n",
    "#Guardar esos números en una lista.\n",
    "\n",
    "#Salir del bucle si el usuario ingresa un 0.\n",
    "\n",
    "#Calcular el promedio (si hay números).\n",
    "\n",
    "#Mostrar el resultado.\n",
    "\n",
    "\n",
    "numeros = []\n",
    "\n",
    "while True:\n",
    "    entrada = int(input(\"Ingresá un número 0 para salir: \"))\n",
    "    print(entrada)\n",
    "    if entrada == 0:\n",
    "        break\n",
    "    numeros.append(entrada)\n",
    "\n",
    "if numeros:\n",
    "    promedio = sum(numeros) / len(numeros)\n",
    "    print(\"El promedio es:\", promedio)\n",
    "else:\n",
    "    print(\"No ingresaste ningún número.\")\n",
    "\n"
   ]
  }
 ],
 "metadata": {
  "kernelspec": {
   "display_name": "Python 3",
   "language": "python",
   "name": "python3"
  },
  "language_info": {
   "codemirror_mode": {
    "name": "ipython",
    "version": 3
   },
   "file_extension": ".py",
   "mimetype": "text/x-python",
   "name": "python",
   "nbconvert_exporter": "python",
   "pygments_lexer": "ipython3",
   "version": "3.11.9"
  }
 },
 "nbformat": 4,
 "nbformat_minor": 5
}
