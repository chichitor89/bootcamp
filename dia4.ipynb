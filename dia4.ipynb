{
 "cells": [
  {
   "cell_type": "markdown",
   "id": "472b3ba7",
   "metadata": {},
   "source": [
    "## Programación orientada a objetos\n",
    "\n",
    "\n",
    "Python también nos permite representar cosas del mundo real, más fielmente por medio de estructuras de datos llamadas **objetos**.\n",
    "\n",
    "Tanto sus atributos (características y propiedades) como sus métodos (funciones que nos permiten interactuar con el objeto) se definen en una `clase`.\n",
    "\n",
    "Esta `clase` es como una plantilla para los objetos que queremos crear, como un molde.\n",
    "\n",
    "Luego ese molde se utiliza para crear la cantidad que necesitemos de los `objetos` de esa `clase`."
   ]
  },
  {
   "cell_type": "code",
   "execution_count": null,
   "id": "9a3b1c42",
   "metadata": {},
   "outputs": [
    {
     "name": "stdout",
     "output_type": "stream",
     "text": [
      "4\n",
      "1\n"
     ]
    }
   ],
   "source": [
    "#Molde de un perro \n",
    "class Perro:\n",
    "    #Atributos de clase - Atributos comunes \n",
    "    cabeza = 1\n",
    "    patas = 4\n",
    "\n",
    "#Creamos al perro\n",
    "perro1 = Perro()\n",
    "\n",
    "print(perro1.patas)\n",
    "print(perro1.cabeza)\n",
    "\n",
    "perro2 = Perro()\n"
   ]
  },
  {
   "cell_type": "markdown",
   "id": "c6171a0d",
   "metadata": {},
   "source": [
    "## Definiendo atributos\n",
    "Es importante distinguir que existen dos tipos de atributos:\n",
    "\n",
    "`Atributos de clase`: Son atributos cuyos valores definen a la clase, por lo tanto serán comunes para todos los objetos. (Mostrar el que ya teníamos arriba)\n",
    "\n",
    "`Atributos de instancia`: Son atributos cuyos valores son específicos de los objetos creados (la instancia). En nuestro caso, de ambas mascotas tiene el atributo `nombre`, pero cada una tiene un valor diferente, que se define al crear el objeto. (Mostrar los de instancia)"
   ]
  },
  {
   "cell_type": "code",
   "execution_count": null,
   "id": "1099c438",
   "metadata": {},
   "outputs": [
    {
     "name": "stdout",
     "output_type": "stream",
     "text": [
      "Labrador\n",
      "blanco\n"
     ]
    }
   ],
   "source": [
    "class Perro:\n",
    "\n",
    "    #Atributos de clase\n",
    "    cabeza = '1'\n",
    "    patas = 4\n",
    "\n",
    "    #Atributos de instancia\n",
    "    def __init__(self, raza,color):\n",
    "        self.raza = raza\n",
    "        self.color =color\n",
    "\n",
    "firu = Perro('Labrador', 'Marron')\n",
    "luna = Perro('caniche', 'blanco')\n",
    "\n",
    "print(firu.raza)\n",
    "print(luna.color)\n",
    "\n",
    "\n"
   ]
  },
  {
   "cell_type": "markdown",
   "id": "40cc0d9b",
   "metadata": {},
   "source": [
    "## 📌 ¿Qué es self?\n",
    "self representa al propio objeto que se está creando o usando en ese momento. Es una convención que se utiliza dentro de los métodos de una clase para acceder a los atributos y otros métodos del objeto actual.\n",
    "\n",
    "Es como decir:\n",
    "\n",
    "“Esto pertenece a mí, el objeto que está siendo creado o que está ejecutando este método.”\n",
    "\n",
    "## 👀 ¿Se puede cambiar la palabra self?\n",
    "Técnicamente sí, se puede usar otro nombre en su lugar. Python solo necesita que el primer parámetro del método reciba una referencia al objeto actual, pero por convención siempre se usa self."
   ]
  },
  {
   "cell_type": "code",
   "execution_count": 12,
   "id": "ffc661bb",
   "metadata": {},
   "outputs": [
    {
     "name": "stdout",
     "output_type": "stream",
     "text": [
      "Firu\n"
     ]
    }
   ],
   "source": [
    "class Perro:\n",
    "    \n",
    "    #Atributo de instancia\n",
    "    def __init__(self, nombre):\n",
    "        self.nombre = nombre\n",
    "\n",
    "perro1 = Perro('Firu')\n",
    "\n",
    "print(perro1.nombre)\n"
   ]
  },
  {
   "cell_type": "markdown",
   "id": "1d8a3a61",
   "metadata": {},
   "source": [
    "## Challenge 🤺 - 15 m\n",
    "\n",
    "Crear una clase animales que tenga atributo de clase y de instancia.\n",
    "\n",
    "- Atributos de clase: `especie`.\n",
    "- Atributos de instancia: `nombre` & `color`\n",
    ".\n",
    "Luego, crear nuevos objetos a partir de las nuevas class. Imprimir el nombre y el color de los animales en una frase.\n",
    "Ejemplo: \"Me llamo `{nombre}` y soy un ave de color `{color}`\"."
   ]
  },
  {
   "cell_type": "markdown",
   "id": "6e83f7a5",
   "metadata": {},
   "source": [
    "### Juanjo 😎"
   ]
  },
  {
   "cell_type": "code",
   "execution_count": 15,
   "id": "3fc80568",
   "metadata": {},
   "outputs": [
    {
     "name": "stdout",
     "output_type": "stream",
     "text": [
      "Negro\n",
      "Freya\n",
      "Me llamo Freya y soy un aguila y soy de color Negro\n"
     ]
    }
   ],
   "source": [
    "class Ave:\n",
    "    especie = 'aguila'\n",
    "\n",
    "\n",
    "    def __init__ (self,color,nombre):\n",
    "        self.color= color\n",
    "        self.nombre= nombre\n",
    "\n",
    "\n",
    "ave1 = Ave (\"Negro\",'Freya')\n",
    "\n",
    "print(ave1.color)\n",
    "\n",
    "print(ave1.nombre)\n",
    "\n",
    "print (f'Me llamo {ave1.nombre} y soy un {ave1.especie} y soy de color {ave1.color}')"
   ]
  },
  {
   "cell_type": "markdown",
   "id": "70fc7598",
   "metadata": {},
   "source": [
    "### Matias 🥢"
   ]
  },
  {
   "cell_type": "code",
   "execution_count": 16,
   "id": "5a42106d",
   "metadata": {},
   "outputs": [
    {
     "name": "stdout",
     "output_type": "stream",
     "text": [
      "mi nombre es avemaria, y soy un ave de color gris \n"
     ]
    }
   ],
   "source": [
    "class animales:\n",
    "    #Atributos de clase\n",
    "    especie= \"ave\"\n",
    "\n",
    "    #Atributos de instancia\n",
    "    def __init__ (self, nombre, color):\n",
    "\n",
    "        self.nombre = nombre\n",
    "        self.color = color\n",
    "\n",
    "pajaro1 = animales (\"avemaria\", \"gris\")\n",
    "\n",
    "print (f\"mi nombre es {pajaro1.nombre}, y soy un ave de color {pajaro1.color} \")"
   ]
  },
  {
   "cell_type": "markdown",
   "id": "b9a6eed1",
   "metadata": {},
   "source": [
    "## Definiendo métodos\n",
    "En realidad cuando usamos `__init__` anteriormente ya estábamos definiendo un método, solo que uno especial. Uno que se ejecuta al momento de crear un objeto. A continuación vamos a ver como definir métodos que le den alguna funcionalidad interesante a nuestra clase"
   ]
  },
  {
   "cell_type": "code",
   "execution_count": null,
   "id": "bfd6680d",
   "metadata": {},
   "outputs": [
    {
     "name": "stdout",
     "output_type": "stream",
     "text": [
      "Toyota acelera y avanza 20 m. Nueva posicion: 20\n",
      "Toyota gira a la izquierda\n",
      "Toyota acelera y avanza 30 m. Nueva posicion: 50\n",
      "Toyota frena y se detiene en la posicion 50\n"
     ]
    }
   ],
   "source": [
    "class Coche:\n",
    "    \n",
    "    #Atributo de clase\n",
    "    tipo = 'vehiculo'\n",
    "\n",
    "    #Atributo de instancia\n",
    "    def __init__(self, modelo, posicion = 0):\n",
    "        self.modelo = modelo\n",
    "        self.posicion = posicion\n",
    "\n",
    "    #Metodos o acciones\n",
    "    def acelerar(self, metros):\n",
    "        self.posicion += metros\n",
    "        print(f'{self.modelo} acelera y avanza {metros} m. Nueva posicion: {self.posicion}')\n",
    "\n",
    "    #Metodo o accion\n",
    "    def girar(self, direccion):\n",
    "        print(f'{self.modelo} gira a la {direccion}')\n",
    "\n",
    "    #Metodo o accion\n",
    "    def frenar(self):\n",
    "        print(f'{self.modelo} frena y se detiene en la posicion {self.posicion}')\n",
    "\n",
    "#Creamos el objeto a partir del molde (class Coche)\n",
    "mi_coche = Coche('Toyota')\n",
    "\n",
    "#Mover el objeto\n",
    "mi_coche.acelerar(20)\n",
    "mi_coche.girar('izquierda')\n",
    "mi_coche.acelerar(30)\n",
    "mi_coche.frenar()\n",
    "\n"
   ]
  },
  {
   "cell_type": "markdown",
   "id": "29d3e69d",
   "metadata": {},
   "source": [
    "## 🧱 ¿Qué es __init__?\n",
    "__init__ (se pronuncia “init”) es un método especial de las clases en Python. Es el constructor, es decir, el bloque de código que se ejecuta automáticamente cuando creamos un nuevo objeto a partir de una clase.\n",
    "\n",
    "## 📦 ¿Para qué sirve?\n",
    "Sirve para inicializar (o configurar) el objeto con sus atributos personalizados, como por ejemplo nombre, color, edad, etc.\n",
    "\n",
    "Te permite hacer que cada objeto tenga su propia información."
   ]
  },
  {
   "cell_type": "code",
   "execution_count": null,
   "id": "2ffa5c04",
   "metadata": {},
   "outputs": [],
   "source": [
    "#Nombre de clase\n",
    "#Atributos de clase\n",
    "#Atributos de instancia\n",
    "#Metodos"
   ]
  },
  {
   "cell_type": "markdown",
   "id": "485e55a7",
   "metadata": {},
   "source": [
    "## Challenge 🤺- 10 m\n",
    "\n",
    "Crear dos métodos para nuestro animal y ejecutar, debe ser algo específico de ese animal.\n",
    "\n",
    "- Ejemplo: \"Cuando hablo, digo X\".\n",
    "- Ejemplo: \"Cuando me muevo, hago X\"."
   ]
  },
  {
   "cell_type": "markdown",
   "id": "08aa71cf",
   "metadata": {},
   "source": [
    "### Trinidad 💜"
   ]
  },
  {
   "cell_type": "code",
   "execution_count": 26,
   "id": "da2be635",
   "metadata": {},
   "outputs": [
    {
     "name": "stdout",
     "output_type": "stream",
     "text": [
      "Andrea tiene 18 y le gusta caminar en la manhana\n",
      "Pablito quiere parar, y descanza\n"
     ]
    }
   ],
   "source": [
    "class Persona:\n",
    "    #Atributo de clase\n",
    "    cabeza = 1\n",
    "    manos = 2\n",
    "    piernas = 2\n",
    "\n",
    "    #Atributo de instancia\n",
    "    def __init__(self, nombre, mayor_de_edad):\n",
    "        self.nombre = nombre\n",
    "        self.mayor_de_edad = mayor_de_edad\n",
    "    \n",
    "    #Metodo y acciones del objeto\n",
    "    def caminar(self, caminar):\n",
    "        print(f'{self.nombre} tiene {self.mayor_de_edad} y le gusta {caminar} en la manhana')\n",
    "    \n",
    "    #Metodo y acciones del objeto\n",
    "    def dormir(self, silla):\n",
    "        print(f'{self.nombre} quiere parar, y {silla}')\n",
    "\n",
    "#Creamos el objeto a apartir del molde (class Persona)        \n",
    "andrea = Persona('Andrea', 18)\n",
    "pablito = Persona('Pablito', 23)\n",
    "\n",
    "#El objeto hace algo\n",
    "andrea.caminar('caminar')\n",
    "pablito.dormir('descanza')"
   ]
  },
  {
   "cell_type": "markdown",
   "id": "07448af4",
   "metadata": {},
   "source": [
    "### Hugo ✌"
   ]
  },
  {
   "cell_type": "code",
   "execution_count": 25,
   "id": "62b4f8e3",
   "metadata": {},
   "outputs": [
    {
     "name": "stdout",
     "output_type": "stream",
     "text": [
      "yaka se pone loco y muerde\n",
      "yaka se pone carinhoso y se lia\n",
      "serpiente se pone carinhoso y se lia\n"
     ]
    }
   ],
   "source": [
    "class Animales:\n",
    "    \n",
    "    especie = \"reptil\"      #este es un atributo de clase (comunes)\n",
    "\n",
    "    def __init__(self,nombre, color):  #estos son atributos de instancia\n",
    "            self.nombre = nombre\n",
    "            self.color = color\n",
    "\n",
    "    def muerde(self,morder):\n",
    "        self.morder = \"muerde\"\n",
    "        print(f\"{self.nombre} se pone loco y {morder}\")         #metodos\n",
    "    \n",
    "    def se_lia(self,se_lia):\n",
    "        print(f\"{self.nombre} se pone carinhoso y {se_lia}\")\n",
    "\n",
    "\n",
    "yaka = Animales(\"yaka\",\"verde\")\n",
    "\n",
    "serpiente = Animales(\"serpiente\",\"negro\")\n",
    "\n",
    "# print(f\"Me llamo {yaka.nombre} y soy {yaka.especie} de color {yaka.color} \")\n",
    "\n",
    "yaka.muerde('muerde')\n",
    "yaka.se_lia('se lia')\n",
    "\n",
    "serpiente.se_lia('se lia')\n",
    "\n",
    "#print(f\"Me llamo {serpiente.nombre} y soy {serpiente.especie} de color {serpiente.color}\")"
   ]
  },
  {
   "cell_type": "code",
   "execution_count": 28,
   "id": "992086ce",
   "metadata": {},
   "outputs": [
    {
     "name": "stdout",
     "output_type": "stream",
     "text": [
      "Se levanta y gira\n",
      "guau guau\n"
     ]
    }
   ],
   "source": [
    "class Animal:\n",
    "    #Atributo de clase\n",
    "    especie = 'canina'\n",
    "\n",
    "    #Atributos de instancia\n",
    "    def __init__(self,nombre,color):\n",
    "        self.nombre=nombre\n",
    "        self.color=color\n",
    "        \n",
    "    #Metodos o acciones\n",
    "    def mover(self):\n",
    "        print('Se levanta y gira')\n",
    "\n",
    "    def ladrar(self):\n",
    "        print('guau guau')\n",
    "\n",
    "perro = Animal('tom', 'marron')\n",
    "\n",
    "perro.mover()\n",
    "perro.ladrar()\n"
   ]
  },
  {
   "cell_type": "markdown",
   "id": "49483afe",
   "metadata": {},
   "source": [
    "## Herencia\n",
    "Ojo! Esto no es una herencia como tal, sino una relación entre clases.\n",
    "\n",
    "Lo que representa la herencia es que una clase hereda los atributos y métodos de otra clase. (mostrar ejemplo)\n",
    "\n",
    "Dado que una clase hija hereda los atributos y métodos de la clase padre, nos puede ser muy útil cuando tengamos clases que se parecen entre sí pero tienen ciertas particularidades"
   ]
  },
  {
   "cell_type": "code",
   "execution_count": 31,
   "id": "58a76c86",
   "metadata": {},
   "outputs": [
    {
     "data": {
      "text/plain": [
       "'Reptil'"
      ]
     },
     "execution_count": 31,
     "metadata": {},
     "output_type": "execute_result"
    }
   ],
   "source": [
    "class Reptil:\n",
    "    #Atributo de clase\n",
    "    tipo = 'Reptil'\n",
    "\n",
    "    #Atributos de instancia\n",
    "    def __init__(self, color, sonido):\n",
    "        self.color = color\n",
    "        self.sonido = sonido\n",
    "\n",
    "    #Metodos o acciones\n",
    "    def hablar(self):\n",
    "        print('Buenos dias')\n",
    "    \n",
    "    def presentarse(self):\n",
    "        print('Soy un animal del tipo', self.tipo)\n",
    "\n",
    "class Serpiente(Reptil):\n",
    "    \n",
    "    veneno = True\n",
    "    \n",
    "    def mover(self):\n",
    "        print('Me arrastro')\n",
    "\n",
    "python = Serpiente('verde', 'zzz')\n",
    "\n",
    "python.tipo\n",
    "\n",
    "\n"
   ]
  },
  {
   "cell_type": "markdown",
   "id": "5ee8288d",
   "metadata": {},
   "source": [
    "## Challenge 🤺 - 15 m\n",
    "Definir una clase madre que herede a sus clases hijas dos atributos de instancia. Mostrar ambos atributos en pantalla desde los objetos de las clases hijas.\n",
    "\n",
    "Observación: Editar las clases hijas para que no se inicialicen."
   ]
  },
  {
   "cell_type": "markdown",
   "id": "bd8c2b94",
   "metadata": {},
   "source": [
    "### Carlos ✈"
   ]
  },
  {
   "cell_type": "code",
   "execution_count": null,
   "id": "f93abc20",
   "metadata": {},
   "outputs": [
    {
     "name": "stdout",
     "output_type": "stream",
     "text": [
      "Un auto deportivo como el Ferrari,LaFerrari sacrifica comodidad por velocidad\n",
      "Un auto deportivo como el Ferrari,LaFerrari se caracteriza por su velocidad\n",
      "Los {self.marca}, {self.modelo} son mas comodo que cualquier deportivo\n",
      "Los Hyunday, H1 No son tan veloces pero si amplios\n"
     ]
    }
   ],
   "source": [
    "# Defino mi clase madre \n",
    "class Automovil:\n",
    "    tipo = 'automovil' \n",
    "    ruedas = 4 \n",
    "    motor = 1\n",
    "\n",
    "# Creacion de atributo de instancia \n",
    "    def __init__(self, marca, modelo):\n",
    "        self.marca  =   marca\n",
    "        self.modelo = modelo\n",
    "\n",
    "class Deportivo(Automovil):\n",
    "    def velocidad(self):\n",
    "        print(f'Un auto deportivo como el {self.marca},{self.modelo} se caracteriza por su velocidad')\n",
    "    \n",
    "    def comodidad (self):\n",
    "        print(f'Un auto deportivo como el {self.marca},{self.modelo} sacrifica comodidad por velocidad')\n",
    "\n",
    "class Familiar(Automovil):\n",
    "    def velocidad(self):\n",
    "        print(f'Los {self.marca}, {self.modelo} No son tan veloces pero si amplios')\n",
    "    \n",
    "    def comodidad(self):\n",
    "        print('Los {self.marca}, {self.modelo} son mas comodo que cualquier deportivo')\n",
    "\n",
    "vehiculo1 = Deportivo('Ferrari','LaFerrari')\n",
    "vehiculo2 = Familiar('Hyunday', 'H1')\n",
    "vehiculo1.comodidad()\n",
    "vehiculo1.velocidad()\n",
    "vehiculo2.comodidad()\n",
    "vehiculo2.velocidad() "
   ]
  },
  {
   "cell_type": "markdown",
   "id": "57865a48",
   "metadata": {},
   "source": [
    "### Alejandro 🚁"
   ]
  },
  {
   "cell_type": "code",
   "execution_count": 33,
   "id": "1b97d6cc",
   "metadata": {},
   "outputs": [
    {
     "name": "stdout",
     "output_type": "stream",
     "text": [
      "Soy un animal del tipo reptil, color verde y hago el sonido ssss\n",
      "Buenos días\n",
      "Me arrastro\n"
     ]
    }
   ],
   "source": [
    "class Reptil: \n",
    "    tipo = 'reptil'\n",
    "\n",
    "    def __init__(self, color, sonido):\n",
    "        self.color = color\n",
    "        self.sonido = sonido\n",
    "\n",
    "    def hablar(self):\n",
    "        print('Buenos días')\n",
    "\n",
    "    def presentarse(self):\n",
    "        print(f\"Soy un animal del tipo {self.tipo}, color {self.color} y hago el sonido {self.sonido}\")\n",
    "\n",
    "\n",
    "\n",
    "\n",
    "\n",
    "class Serpiente(Reptil):\n",
    "    def mover(self):\n",
    "        print('Me arrastro')\n",
    "\n",
    "\n",
    "# Crear objeto de clase hija\n",
    "cobra = Serpiente('verde', 'ssss')\n",
    "cobra.presentarse()\n",
    "cobra.hablar()\n",
    "cobra.mover()"
   ]
  },
  {
   "cell_type": "markdown",
   "id": "c9ef8f0f",
   "metadata": {},
   "source": [
    "## Diccionarios\n",
    "Un diccionario es una colección de pares formados por una clave y un valor asociado a la clave. Se construyen poniendo los pares entre llaves `{ }` separados por comas, y separando la clave del valor con dos puntos :.\n",
    "\n",
    "Se caracterizan por:\n",
    "\n",
    "- No tienen orden.\n",
    "- Pueden contener elementos de distintos tipos.\n",
    "- Son mutables, es decir, pueden alterarse durante la ejecución de un programa.\n",
    "- Las claves son únicas, es decir, no pueden repetirse en un mismo diccionario, y pueden ser de cualquier tipo de datos."
   ]
  },
  {
   "cell_type": "code",
   "execution_count": 35,
   "id": "925b5e8c",
   "metadata": {},
   "outputs": [
    {
     "name": "stdout",
     "output_type": "stream",
     "text": [
      "{'nombre': 'Eduardo', 'celular': 2323242, 'email': 'edu@mail'}\n"
     ]
    }
   ],
   "source": [
    "contactos = {'nombre':'Eduardo','celular': 2323242, 'email':'edu@mail' }\n",
    "\n",
    "print(contactos)"
   ]
  },
  {
   "cell_type": "code",
   "execution_count": 48,
   "id": "288f33fd",
   "metadata": {},
   "outputs": [
    {
     "name": "stdout",
     "output_type": "stream",
     "text": [
      "{'nombre': 'Eduardo', 'celular': 2323242, 'email': 'edu@mail'}\n",
      "Eduardo\n",
      "edu@mail\n",
      "{'nombre': 'Eduardo', 'celular': 2323242, 'email': 'edu@mail', 'direccion': 'Calle x'}\n",
      "{'nombre': 'Eduardo', 'celular': 2323242, 'email': 'edu2@gmail', 'direccion': 'Calle x'}\n",
      "{'nombre': 'Eduardo', 'celular': 2323242, 'email': 'edu2@gmail'}\n",
      "{'nombre': 'Eduardo', 'celular': 2323242}\n"
     ]
    }
   ],
   "source": [
    "contactos = {\n",
    "    'nombre':'Eduardo',\n",
    "    'celular': 2323242, \n",
    "    'email':'edu@mail' \n",
    "    }\n",
    "\n",
    "print(contactos)\n",
    "\n",
    "print(contactos['nombre'])\n",
    "print(contactos['email'])\n",
    "\n",
    "#Mostrar todas la llaves\n",
    "contactos.keys()\n",
    "contactos.values()\n",
    "contactos.items()\n",
    "\n",
    "#Añadir un dato a mi diccionario\n",
    "contactos['direccion'] = 'Calle x'\n",
    "print(contactos)\n",
    "\n",
    "#Modificar un dato \n",
    "contactos['email'] = 'edu2@gmail'\n",
    "print(contactos)\n",
    "\n",
    "#Eliminar un dato del diccionario\n",
    "contactos.popitem()\n",
    "print(contactos)\n",
    "\n",
    "#Elimar datos del diccionario por su clave\n",
    "del contactos['email']\n",
    "print(contactos)"
   ]
  },
  {
   "cell_type": "markdown",
   "id": "b9fe7733",
   "metadata": {},
   "source": [
    "## Challenge 🤺 10 m\n",
    "Escribir un programa que cree un `diccionario vacío` y lo vaya llenado con información sobre una persona (por ejemplo nombre, edad, sexo, teléfono, correo electrónico, etc.) que se le `pida al usuario`. \n",
    "\n",
    "Cada vez que se `añada` un nuevo dato debe `imprimirse` el contenido del diccionario."
   ]
  },
  {
   "cell_type": "markdown",
   "id": "4bda7e45",
   "metadata": {},
   "source": [
    "### Edu Medina ⚡"
   ]
  },
  {
   "cell_type": "code",
   "execution_count": null,
   "id": "3fe27176",
   "metadata": {},
   "outputs": [
    {
     "name": "stdout",
     "output_type": "stream",
     "text": [
      "{'Nombre': 'Edu'}\n",
      "{'Nombre': 'Edu', 'Direccion': 'Medina'}\n",
      "{'Nombre': 'Edu', 'Direccion': 'Medina', 'Numero': '424'}\n",
      "{'Nombre': 'Edu', 'Direccion': 'Medina', 'Numero': '424', 'Edad': '29'}\n"
     ]
    }
   ],
   "source": [
    "datosUsuario = {}\n",
    "\n",
    "def preguntas ():\n",
    "    \n",
    "    nombre = input('Ingrese su nombre y appellido: ')\n",
    "    datosUsuario ['Nombre'] = nombre\n",
    "    print(datosUsuario)\n",
    "    \n",
    "    direccion = input('Ingrese su direccion: ')\n",
    "    datosUsuario ['Direccion'] = direccion\n",
    "    print(datosUsuario)\n",
    "    \n",
    "    numero = input('Ingrese su numero de telefono: ')\n",
    "    datosUsuario['Numero'] = numero\n",
    "    print(datosUsuario)\n",
    "    \n",
    "    edad = input('Ingrese su edad:')\n",
    "    datosUsuario['Edad'] = edad\n",
    "    print(datosUsuario)\n",
    "\n",
    "preguntas () "
   ]
  },
  {
   "cell_type": "markdown",
   "id": "5edb2ab4",
   "metadata": {},
   "source": [
    "### Sebas 🥩"
   ]
  },
  {
   "cell_type": "code",
   "execution_count": 49,
   "id": "7427c1d6",
   "metadata": {},
   "outputs": [
    {
     "name": "stdout",
     "output_type": "stream",
     "text": [
      "{'nombre': 'Sebas'}\n",
      "{'nombre': 'Sebas', 'apellido': 'Ocampos'}\n",
      "{'nombre': 'Sebas', 'apellido': 'Ocampos', 'eded': 25}\n",
      "{'nombre': 'Sebas', 'apellido': 'Ocampos', 'eded': 25, 'sexo': 'M'}\n",
      "{'nombre': 'Sebas', 'apellido': 'Ocampos', 'eded': 25, 'sexo': 'M', 'telefono': 409324023}\n",
      "{'nombre': 'Sebas', 'apellido': 'Ocampos', 'eded': 25, 'sexo': 'M', 'telefono': 409324023, 'email': 'srw@df'}\n"
     ]
    }
   ],
   "source": [
    "datos_personales={}\n",
    "nombre=input(\"Ingrese su nombre: \")\n",
    "datos_personales[\"nombre\"] = nombre\n",
    "print(datos_personales)\n",
    "\n",
    "apellido=input(\"Ingrese su apellido: \")\n",
    "datos_personales[\"apellido\"] = apellido\n",
    "print(datos_personales)\n",
    "\n",
    "edad=int(input(\"Ingrese su edad: \"))\n",
    "datos_personales[\"eded\"] = edad\n",
    "print(datos_personales)\n",
    "\n",
    "sexo=input(\"Ingrese su sexo: \")\n",
    "datos_personales[\"sexo\"] = sexo\n",
    "print(datos_personales)\n",
    "\n",
    "telefono=int(input(\"Ingrese su telefono: \"))\n",
    "datos_personales[\"telefono\"] = telefono\n",
    "print(datos_personales)\n",
    "\n",
    "email=input(\"Ingrese su correo: \")\n",
    "datos_personales[\"email\"] = email\n",
    "print(datos_personales)"
   ]
  },
  {
   "cell_type": "code",
   "execution_count": null,
   "id": "0b1a54cd",
   "metadata": {},
   "outputs": [
    {
     "name": "stdout",
     "output_type": "stream",
     "text": [
      "{'Nombre': 'jose'}\n",
      "{'Nombre': 'jose', 'Edad': '23'}\n",
      "{'Nombre': 'jose', 'Edad': '23', 'Sexo': 'M'}\n",
      "{'Nombre': 'jose', 'Edad': '23', 'Sexo': 'M', 'Telefono': '543'}\n",
      "{'Nombre': 'jose', 'Edad': '23', 'Sexo': 'M', 'Telefono': '543', 'Correo': 'jose@dfda'}\n"
     ]
    }
   ],
   "source": [
    "mi_diccionario = {}\n",
    "\n",
    "datos_usuario = ['Nombre','Edad','Sexo','Telefono','Correo']\n",
    "\n",
    "for iterador in datos_usuario:\n",
    "    valor = input(f'Ingrese el {iterador} del usuario:')\n",
    "\n",
    "    mi_diccionario[iterador] = valor\n",
    "    print(mi_diccionario)"
   ]
  },
  {
   "cell_type": "code",
   "execution_count": 52,
   "id": "4228e158",
   "metadata": {},
   "outputs": [
    {
     "name": "stdout",
     "output_type": "stream",
     "text": [
      "\n",
      "comando no entendido, repreguntando: \n",
      "{}\n",
      "{'Nombre': 'Pedro'}\n",
      "\n",
      "ya no se va a agregar nuevos elementos\n"
     ]
    },
    {
     "data": {
      "text/plain": [
       "{'Nombre': 'Pedro'}"
      ]
     },
     "execution_count": 52,
     "metadata": {},
     "output_type": "execute_result"
    }
   ],
   "source": [
    "def obtener_informacion_del_personal():\n",
    "\n",
    "    informacion_de_personal = {}\n",
    "\n",
    "    while True:\n",
    "\n",
    "        confirmacion = input('\\ndesea agregar un nuevo dato: (si/no) : ')\n",
    "\n",
    "        if confirmacion.lower() == \"no\":\n",
    "            print(\"\\nya no se va a agregar nuevos elementos\")\n",
    "            break\n",
    "        \n",
    "        elif confirmacion.lower() == \"si\":\n",
    "            \n",
    "            informacion_a_agregar = input('\\nQue campo de informacion deseas agregar ahora?: ')\n",
    "            \n",
    "            informacion_de_personal[informacion_a_agregar] = input('Que va a ir dentro del campo creado?: ')\n",
    "        \n",
    "        else:\n",
    "            print(\"\\ncomando no entendido, repreguntando: \")\n",
    "\n",
    "        print(informacion_de_personal)\n",
    "\n",
    "    return informacion_de_personal\n",
    "\n",
    "\n",
    "#llamar a la funcion\n",
    "obtener_informacion_del_personal() "
   ]
  },
  {
   "cell_type": "markdown",
   "id": "38f2765f",
   "metadata": {},
   "source": [
    "## Challenge 2 🤺- 15m\n",
    "\n",
    "Crear una tarjeta personal. El usuario (mediante `input`) puede elegir:\n",
    "\n",
    "1. `Crear` datos nuevos\n",
    "2. `Modificar` datos\n",
    "3. `Eliminar` datos"
   ]
  },
  {
   "cell_type": "markdown",
   "id": "d5a6e896",
   "metadata": {},
   "source": [
    "### Victor 👏"
   ]
  },
  {
   "cell_type": "code",
   "execution_count": 53,
   "id": "489338b2",
   "metadata": {},
   "outputs": [
    {
     "name": "stdout",
     "output_type": "stream",
     "text": [
      "{'Nombre': 'Victor', 'Apellido': 'Gonzalez', 'Direccion': 'adada'}\n",
      "{'Nombre': 'Carlos', 'Apellido': 'sadsa', 'Direccion': 'fdsfdsaf'}\n",
      "Los datos fueron eliminados\n",
      "{}\n"
     ]
    }
   ],
   "source": [
    "datos_usuario = {'Nombre': '', 'Apellido':'','Direccion':''}\n",
    "\n",
    "\n",
    "def crear_tarjeta(datos_usuario):\n",
    "    datos_usuario['Nombre'] = input('Ingrese su nombre')\n",
    "    datos_usuario['Apellido'] = input('Ingrese su Apellido')\n",
    "    datos_usuario['Direccion'] = input('Ingrese su direccion')\n",
    "    print(datos_usuario)\n",
    "crear_tarjeta(datos_usuario)\n",
    "\n",
    "def modificar_tarjeta(datos_usuario):\n",
    "\n",
    "    datos_usuario['Nombre'] = input('Ingrese nuevo nombre')\n",
    "    datos_usuario['Apellido'] = input('Ingrese nuevo apellido')\n",
    "    datos_usuario['Direccion'] = input('Ingrese nueva Direccion')\n",
    "    print(datos_usuario)\n",
    "modificar_tarjeta(datos_usuario)\n",
    "\n",
    "def eliminar_datos_tarjeta(datos_usuario):\n",
    "    eliminar = input('Desea eliminar datos')\n",
    "    if eliminar == 'si':\n",
    "        del datos_usuario['Nombre']\n",
    "        del datos_usuario['Apellido']\n",
    "        del datos_usuario['Direccion'] \n",
    "        print('Los datos fueron eliminados')\n",
    "        print(datos_usuario)\n",
    "    else:\n",
    "        print(datos_usuario)\n",
    "\n",
    "eliminar_datos_tarjeta(datos_usuario)"
   ]
  },
  {
   "cell_type": "markdown",
   "id": "2a031a25",
   "metadata": {},
   "source": [
    "### Gonza 🍟"
   ]
  },
  {
   "cell_type": "code",
   "execution_count": 54,
   "id": "d99bd920",
   "metadata": {},
   "outputs": [
    {
     "name": "stdout",
     "output_type": "stream",
     "text": [
      "Comando no reconocido\n",
      "Comando no reconocido\n",
      "{'nombre': 'oscar'}\n",
      "Comando no reconocido\n",
      "Comando no reconocido\n",
      "{'nombre': 'oscar', 'apellido': 'dassda'}\n",
      " Estas son las keys que puedes modificar \n",
      " dict_keys(['nombre', 'apellido'])\n",
      "{'nombre': 'oscar', 'apellido': 'gonzalez'}\n",
      "Muchas gracias por utilizar este programa\n"
     ]
    }
   ],
   "source": [
    "tarjeta_personal = {}\n",
    "datos = []\n",
    "while True:\n",
    "    continuar = input('Deseas realizar alguna accion (s/n)')\n",
    "    if continuar == 's':\n",
    "        accion =  int(input('Cual es el tipo de accion que quieres realizar \\n 1 - crear dato \\n 2 - Modificar Dato \\n 3 - Eliminar dato'))\n",
    "        if accion == 1:\n",
    "            nombre_dato = input('El nombre del dato ')\n",
    "            dato_nuevo = input('El contenido del dato es: ')\n",
    "            tarjeta_personal[nombre_dato] = dato_nuevo\n",
    "            print(tarjeta_personal)\n",
    "\n",
    "        elif accion == 2:\n",
    "            print(f' Estas son las keys que puedes modificar \\n {tarjeta_personal.keys()}')\n",
    "            dato_a_modificar = input('Ingrese EXACTAMENTE el mismo nombre del dato')\n",
    "            dato_modificado = input('Ingrese el nuevo dato')\n",
    "            tarjeta_personal[dato_a_modificar] = dato_modificado\n",
    "            print(tarjeta_personal)\n",
    "\n",
    "        elif accion == 3:\n",
    "            print(f'Cual de los siguientes datos quieres eliminar \\n {tarjeta_personal.keys()}')\n",
    "            dato_a_eliminar = input('Introduce EXACTAMENTE el nombre de el dato')\n",
    "            del tarjeta_personal[dato_a_eliminar]\n",
    "            print(tarjeta_personal)\n",
    "\n",
    "        else: \n",
    "            print('Dato no reconocido, ingreselo nuevamente')\n",
    "\n",
    "    elif continuar == 'n':\n",
    "        print('Muchas gracias por utilizar este programa')\n",
    "        break\n",
    "\n",
    "    else:\n",
    "        print('Comando no reconocido')"
   ]
  },
  {
   "cell_type": "code",
   "execution_count": 57,
   "id": "6ae3f709",
   "metadata": {},
   "outputs": [],
   "source": [
    "#Diccionario vacío\n",
    "tarjeta_personal={}"
   ]
  },
  {
   "cell_type": "code",
   "execution_count": null,
   "id": "9407856d",
   "metadata": {},
   "outputs": [
    {
     "ename": "ValueError",
     "evalue": "invalid literal for int() with base 10: ''",
     "output_type": "error",
     "traceback": [
      "\u001b[1;31m---------------------------------------------------------------------------\u001b[0m",
      "\u001b[1;31mValueError\u001b[0m                                Traceback (most recent call last)",
      "Cell \u001b[1;32mIn[56], line 6\u001b[0m\n\u001b[0;32m      2\u001b[0m tarjeta_personal\u001b[38;5;241m=\u001b[39m{}\n\u001b[0;32m      4\u001b[0m \u001b[38;5;28;01mwhile\u001b[39;00m \u001b[38;5;28;01mTrue\u001b[39;00m:\n\u001b[1;32m----> 6\u001b[0m     quest \u001b[38;5;241m=\u001b[39m \u001b[38;5;28;43mint\u001b[39;49m\u001b[43m(\u001b[49m\u001b[38;5;28;43minput\u001b[39;49m\u001b[43m(\u001b[49m\u001b[38;5;124;43m\"\u001b[39;49m\u001b[38;5;124;43mIntroduza 1,2,3,4,5 segun la opción que desea. Que desea realizar? \u001b[39;49m\u001b[38;5;124;43m\"\u001b[39;49m\n\u001b[0;32m      7\u001b[0m \u001b[43m    \u001b[49m\u001b[38;5;124;43m\"\u001b[39;49m\u001b[38;5;124;43m| 1. Crear un datos.| 2. Modificar un dato existente.|3. Eliminar un dato existente.|4. Salir.|5. Ver el contenido\u001b[39;49m\u001b[38;5;124;43m\"\u001b[39;49m\u001b[43m)\u001b[49m\u001b[43m)\u001b[49m\n\u001b[0;32m      8\u001b[0m     campo_clave \u001b[38;5;241m=\u001b[39m \u001b[38;5;124m\"\u001b[39m\u001b[38;5;124m\"\u001b[39m\n\u001b[0;32m      9\u001b[0m     campo_texto \u001b[38;5;241m=\u001b[39m \u001b[38;5;124m\"\u001b[39m\u001b[38;5;124m\"\u001b[39m\n",
      "\u001b[1;31mValueError\u001b[0m: invalid literal for int() with base 10: ''"
     ]
    }
   ],
   "source": [
    "while True:\n",
    "\n",
    "    quest = int(input(\"Introduza 1,2,3,4,5 segun la opción que desea. Que desea realizar? \"\n",
    "    \"| 1. Crear un datos.| 2. Modificar un dato existente.|3. Eliminar un dato existente.|4. Salir.|5. Ver el contenido\"))\n",
    "    campo_clave = \"\"\n",
    "    campo_texto = \"\"\n",
    "    continuar= \"\"\n",
    "    if quest == 1:\n",
    "        campo_clave = input(\"Que campo desea agregar?\").lower()\n",
    "        campo_texto = input(f\"Ingrese el valor de {campo_clave}\").lower()\n",
    "\n",
    "        tarjeta_personal [campo_clave]= campo_texto\n",
    "        print(tarjeta_personal)\n",
    "\n",
    "    elif quest == 2:\n",
    "        print(tarjeta_personal)\n",
    "        print(\"Cual de los campos desea modificar?\")\n",
    "        campo_clave=input(\"Que campo desea agregar?\").lower()\n",
    "        campo_texto=input(f\"Ingrese el nuevo valor de {campo_clave}\").lower()\n",
    "        tarjeta_personal [campo_clave]= campo_texto\n",
    "        print(tarjeta_personal)\n",
    "\n",
    "    elif quest == 3:\n",
    "        print(tarjeta_personal)\n",
    "        print(\"Cual de los campos desea eliminar?\")\n",
    "        campo_clave=input(\"Que campo desea eliminar?\").lower()\n",
    "        tarjeta_personal.pop(campo_clave)\n",
    "\n",
    "    elif quest == 4:\n",
    "        print(\"Gracias\")\n",
    "        break\n",
    "\n",
    "    elif quest == 5:\n",
    "        print(\"Estos son los elementos existentes\")\n",
    "        print(tarjeta_personal)\n",
    "\n",
    "    else:\n",
    "        print(\"Introduza una opción valida\\n| 1. Crear un datos.| 2. Modificar un dato existente.|3. Eliminar un dato existente.|4. Salir.|5. Ver el contenido \")"
   ]
  },
  {
   "cell_type": "markdown",
   "id": "a17cd701",
   "metadata": {},
   "source": [
    "## Challenge 3 🤺\n",
    "Crear una agenda de contactos. El usuario puede elegir:\n",
    "\n",
    "1. `Mostrar` los contactos\n",
    "2. `Crear `contacto\n",
    "3. `Modificar` datos del contacto"
   ]
  },
  {
   "cell_type": "code",
   "execution_count": null,
   "id": "845f9994",
   "metadata": {},
   "outputs": [],
   "source": [
    "{\n",
    "    eduardo:{'ape':'jgfj'},\n",
    "    jose:{'apellido': 'perez'}\n",
    "    \n",
    "}"
   ]
  }
 ],
 "metadata": {
  "kernelspec": {
   "display_name": "Python 3",
   "language": "python",
   "name": "python3"
  },
  "language_info": {
   "codemirror_mode": {
    "name": "ipython",
    "version": 3
   },
   "file_extension": ".py",
   "mimetype": "text/x-python",
   "name": "python",
   "nbconvert_exporter": "python",
   "pygments_lexer": "ipython3",
   "version": "3.12.6"
  }
 },
 "nbformat": 4,
 "nbformat_minor": 5
}
