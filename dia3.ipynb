{
 "cells": [
  {
   "cell_type": "markdown",
   "id": "a335669f",
   "metadata": {},
   "source": [
    "- if\n",
    "- elif\n",
    "- else\n",
    "\n",
    "### `Operadores de comparacion`\n",
    "- `>` - mayor que otro \n",
    "- `<` - menor que otro\n",
    "- `>=` - mayor o igual que otro   \n",
    "- `<=` - menor o igual que otro\n",
    "- `==` - igual a otro     \n",
    "- `!=` - desigual o distinto a otro\n",
    "\n",
    "### Bucle - Condicional - WHILE\n",
    "\n",
    "### Lista - []\n",
    "\n",
    "### Bucle - Iterativo"
   ]
  },
  {
   "cell_type": "code",
   "execution_count": 3,
   "id": "12c8aa32",
   "metadata": {},
   "outputs": [
    {
     "name": "stdout",
     "output_type": "stream",
     "text": [
      "Buen dia\n",
      "Buen dia\n",
      "None\n"
     ]
    }
   ],
   "source": [
    "def saludar():\n",
    "    print('Buen dia')\n",
    "\n",
    "saludar()\n",
    "\n",
    "print(saludar())"
   ]
  },
  {
   "cell_type": "markdown",
   "id": "79b62979",
   "metadata": {},
   "source": [
    "## Challenge 1 🤺 - 10m\n",
    "\n",
    "Crear una función que imprima la variable palabra."
   ]
  },
  {
   "cell_type": "code",
   "execution_count": null,
   "id": "9b222796",
   "metadata": {},
   "outputs": [
    {
     "name": "stdout",
     "output_type": "stream",
     "text": [
      "word\n"
     ]
    }
   ],
   "source": [
    "def mostrar_algo():    \n",
    "    palabra = \"word\"\n",
    "    print(palabra)\n",
    "\n",
    "mostrar_algo()"
   ]
  },
  {
   "cell_type": "code",
   "execution_count": 6,
   "id": "a0b179e1",
   "metadata": {},
   "outputs": [
    {
     "name": "stdout",
     "output_type": "stream",
     "text": [
      "5\n"
     ]
    }
   ],
   "source": [
    "def sumar(numero1, numero2):\n",
    "    suma = numero1 + numero2\n",
    "    print(suma)\n",
    "\n",
    "\n",
    "sumar(2,3)"
   ]
  },
  {
   "cell_type": "markdown",
   "id": "946b70c2",
   "metadata": {},
   "source": [
    "## Challenge 2 🤺 - 15 min\n",
    "Crear una función que `reciba` dos letras `(parámetros)` y que `verifique` si son iguales:\n",
    "\n",
    "1. `Si son iguales`, imprimir \"Las letras son iguales\".\n",
    "\n",
    "2. `De lo contrario`, imprimir \"Las letras son diferentes\"."
   ]
  },
  {
   "cell_type": "markdown",
   "id": "bb6c83cd",
   "metadata": {},
   "source": [
    "### Dani 🍗"
   ]
  },
  {
   "cell_type": "code",
   "execution_count": 8,
   "id": "a28c8679",
   "metadata": {},
   "outputs": [
    {
     "name": "stdout",
     "output_type": "stream",
     "text": [
      "Las letras son diferentes\n",
      "Las letras son iguales\n"
     ]
    }
   ],
   "source": [
    "letra1=input('Introduce la primera palabra')\n",
    "letra2=input('Introduce la segunda palbara')\n",
    "\n",
    "def verificador(letra1,letra2):\n",
    "    if letra1==letra2:\n",
    "        print(\"Las letras son iguales\")\n",
    "    else:\n",
    "        print('Las letras son diferentes')\n",
    "\n",
    "verificador('a','b')\n",
    "verificador(letra1, letra2)"
   ]
  },
  {
   "cell_type": "markdown",
   "id": "cd55f2ea",
   "metadata": {},
   "source": [
    "### Gabo 🦇"
   ]
  },
  {
   "cell_type": "code",
   "execution_count": 7,
   "id": "65babd46",
   "metadata": {},
   "outputs": [
    {
     "name": "stdout",
     "output_type": "stream",
     "text": [
      "Las letras son diferentes\n"
     ]
    }
   ],
   "source": [
    "palabra1=str(input(\"Ingrese una letra\"))\n",
    "palabra2=str(input(\"Ingrese una letra\"))\n",
    "\n",
    "if len(palabra1)>1 and len(palabra2)>1:\n",
    "    print(\"Por favor ingrese solo una letra\")\n",
    "\n",
    "def palabras(palabra1,palabra2):\n",
    "    if palabra1==palabra2:\n",
    "        print(\"Las letras son iguales\")\n",
    "    else:\n",
    "        print(\"Las letras son diferentes\")\n",
    "        \n",
    "palabras(palabra1,palabra2)"
   ]
  },
  {
   "cell_type": "code",
   "execution_count": 11,
   "id": "ef588317",
   "metadata": {},
   "outputs": [
    {
     "name": "stdout",
     "output_type": "stream",
     "text": [
      "Las palabras son diferentes\n"
     ]
    }
   ],
   "source": [
    "def verificar_si_las_palabras_coinciden(palabra_a_encontrar, palabra_ingresada):\n",
    "    palabras_son_iguales = palabra_a_encontrar == palabra_ingresada\n",
    "\n",
    "    if palabras_son_iguales:\n",
    "        return 'Las palabras son iguales'\n",
    "    \n",
    "    else:\n",
    "        return 'Las palabras son diferentes'\n",
    "    \n",
    "\n",
    "\n",
    "palabra_coincide = verificar_si_las_palabras_coinciden('arbol', 'casa')\n",
    "\n",
    "print(palabra_coincide)\n",
    "    "
   ]
  },
  {
   "cell_type": "code",
   "execution_count": 16,
   "id": "0e52a620",
   "metadata": {},
   "outputs": [
    {
     "name": "stdout",
     "output_type": "stream",
     "text": [
      "16\n"
     ]
    }
   ],
   "source": [
    "def sumar(numero1, numero2):\n",
    "    suma = numero1 + numero2\n",
    "    return suma\n",
    "\n",
    "suma1 = sumar(2, 5)\n",
    "suma2 = sumar(3,6)\n",
    "\n",
    "total = suma1 + suma2\n",
    "\n",
    "print(total)\n"
   ]
  },
  {
   "cell_type": "markdown",
   "id": "44512800",
   "metadata": {},
   "source": [
    "## Challenge 3 🤺 - 20m\n",
    "\n",
    "Crear una función que reciba `dos parámetros` (una palabra y un número), y que retorne `True` si el `número es igual` a la cantidad de letras de la palabra. En caso contrario, que retorne `False`.\n",
    "\n",
    "Pista: `cantidad de letras de una palabra en python`"
   ]
  },
  {
   "cell_type": "markdown",
   "id": "7645487b",
   "metadata": {},
   "source": [
    "### Oscar 👏"
   ]
  },
  {
   "cell_type": "code",
   "execution_count": 17,
   "id": "3f0a5e28",
   "metadata": {},
   "outputs": [
    {
     "name": "stdout",
     "output_type": "stream",
     "text": [
      "True\n"
     ]
    }
   ],
   "source": [
    "def valor_a_agregar(palabra, numero):\n",
    "    if len (palabra) == (numero):\n",
    "        return True\n",
    "    else:\n",
    "        return False\n",
    "\n",
    "valor_a_agregar('arbol',5)\n",
    "\n",
    "valor_a_retornar= (valor_a_agregar('arbol',5))\n",
    "print(valor_a_retornar)"
   ]
  },
  {
   "cell_type": "markdown",
   "id": "c9e7b889",
   "metadata": {},
   "source": [
    "### Eladio"
   ]
  },
  {
   "cell_type": "code",
   "execution_count": 20,
   "id": "632f108b",
   "metadata": {},
   "outputs": [
    {
     "data": {
      "text/plain": [
       "False"
      ]
     },
     "execution_count": 20,
     "metadata": {},
     "output_type": "execute_result"
    }
   ],
   "source": [
    "palabra = input(\"ingrese una palabra 😊\")\n",
    "numero = int(input(\"ingrese un numero =\"))\n",
    "\n",
    "def verifica_letra(palabra,numero):\n",
    "\n",
    "    longitud = len(palabra)\n",
    "\n",
    "    if longitud == numero:\n",
    "        return True\n",
    "    \n",
    "    else:\n",
    "        return False\n",
    "\n",
    "verifica_letra(palabra,numero)\n",
    "\n",
    "#print(verifica_letra(palabra, numero))\n",
    "\n"
   ]
  },
  {
   "cell_type": "code",
   "execution_count": 24,
   "id": "2c22336e",
   "metadata": {},
   "outputs": [
    {
     "name": "stdout",
     "output_type": "stream",
     "text": [
      "arbol\n",
      "chau\n",
      "['a', 'r', 'b', 'o', 'l']\n",
      "['c', 'h', 'a', 'u']\n"
     ]
    }
   ],
   "source": [
    "palabra_a_encontrar = input(\"Ingrese una palabra\")\n",
    "print(palabra_a_encontrar)\n",
    "\n",
    "palabra_ingresada = input('Ingrese otra palabra')\n",
    "print(palabra_ingresada)\n",
    "\n",
    "lista_de_la_letra_a_encontrar = list(palabra_a_encontrar)\n",
    "print(lista_de_la_letra_a_encontrar)\n",
    "\n",
    "lista_de_letras_de_la_palabra_ingresada = list(palabra_ingresada)\n",
    "print(lista_de_letras_de_la_palabra_ingresada)\n"
   ]
  },
  {
   "cell_type": "markdown",
   "id": "2da9c4c0",
   "metadata": {},
   "source": [
    "## Challenge 5 🤺 - 25m\n",
    "\n",
    "`Pedir al usuario` que ingrese 1 palabra, luego `convertir` esa palabra a una `lista` con sus caracteres con `list()`. Agregar esa lista de caracteres a una lista llamada `palabras_ingresadas`. Repetir el proceso 3 veces. Cada vez que se agregue una lista de caracteres, imprimir la lista `palabras_ingresadas`.\n",
    "\n",
    "\n",
    "Ejemplo del resultado esperado:\n",
    "\n",
    "```[['c', 'i', 'e', 'l', 'o']]``` # Al ingresar la primera palabra\n",
    "\n",
    "```[['c', 'i', 'e', 'l', 'o'], ['c', 'a', 'l', 'o', 'r']]``` # Al ingresar la segunda palabra\n",
    "\n",
    "```[['c', 'i', 'e', 'l', 'o'], ['c', 'a', 'l', 'o', 'r'], ['n', 'u', 'b', 'e', 's']]``` # Al ingresar la tercera palabra"
   ]
  },
  {
   "cell_type": "code",
   "execution_count": null,
   "id": "145f23f6",
   "metadata": {},
   "outputs": [],
   "source": [
    "# pseudocodigo es una forma de representar algoritmos utilizando una mezcla entre lenguaje natural y estructuras de programación, sin seguir la sintaxis estricta de un lenguaje de programación específico.\n",
    "\n",
    "#1. Pedir al usuario que ingrese una palabra\n",
    "#2. Convertir la palabra en una lista con \"list()\"\n",
    "#3. Agregar esa lista a otra lista con nombre palabra_ingresada\n",
    "#4. Imprimir palabra_ingresada\n",
    "\n",
    "\n",
    "#1. Pedir al usuario que ingrese una palabra\n",
    "#2. Convertir la palabra en una lista con \"list()\"\n",
    "#3. Agregar esa lista a otra lista con nombre palabra_ingresada\n",
    "#4. Imprimir palabra_ingresada\n",
    "\n",
    "#1. Pedir al usuario que ingrese una palabra\n",
    "#2. Convertir la palabra en una lista con \"list()\"\n",
    "#3. Agregar esa lista a otra lista con nombre palabra_ingresada\n",
    "#4. Imprimir palabra_ingresada\n"
   ]
  },
  {
   "cell_type": "code",
   "execution_count": null,
   "id": "8b40af76",
   "metadata": {},
   "outputs": [],
   "source": [
    "\n",
    "\n",
    "#1. repetir 3 veces\n",
    "    #1. Pedir al usuario que ingrese una palabra\n",
    "    #2. Convertir la palabra en una lista con \"list()\"\n",
    "    #3. Agregar esa lista a otra lista con nombre palabra_ingresada\n",
    "    #4. Imprimir palabra_ingresada"
   ]
  },
  {
   "cell_type": "markdown",
   "id": "5556a956",
   "metadata": {},
   "source": [
    "### Ricardo 👌"
   ]
  },
  {
   "cell_type": "code",
   "execution_count": 25,
   "id": "d1a664af",
   "metadata": {},
   "outputs": [
    {
     "name": "stdout",
     "output_type": "stream",
     "text": [
      "[['h', 'o', 'l', 'a']]\n",
      "[['h', 'o', 'l', 'a'], ['c', 'a', 's', 'a']]\n",
      "[['h', 'o', 'l', 'a'], ['c', 'a', 's', 'a'], ['c', 'h', 'a', 'u']]\n"
     ]
    }
   ],
   "source": [
    "palabras_ingresadas = []\n",
    "\n",
    "for i in range(3):\n",
    "\n",
    "    palabra=input(\"Ingrese una palabra\")\n",
    "    palabras_ingresadas.append(list(palabra))\n",
    "    print(palabras_ingresadas)"
   ]
  },
  {
   "cell_type": "markdown",
   "id": "5c72c0bc",
   "metadata": {},
   "source": [
    "### Cami🌹"
   ]
  },
  {
   "cell_type": "code",
   "execution_count": 28,
   "id": "0956e94d",
   "metadata": {},
   "outputs": [
    {
     "name": "stdout",
     "output_type": "stream",
     "text": [
      "[['c', 'h', 'a', 'u']]\n",
      "[['c', 'h', 'a', 'u'], ['c', 'a', 's', 'a']]\n",
      "[['c', 'h', 'a', 'u'], ['c', 'a', 's', 'a'], ['j', 'o', 's', 'e']]\n"
     ]
    }
   ],
   "source": [
    "palabras_ingresadas = []\n",
    "\n",
    "for palabra in range(3):\n",
    "    palabra = input(\"Escribe una palabra\")\n",
    "    lista_palabras = list(palabra)\n",
    "    palabras_ingresadas.append(lista_palabras)\n",
    "    print(palabras_ingresadas)"
   ]
  },
  {
   "cell_type": "code",
   "execution_count": null,
   "id": "dd0d4370",
   "metadata": {},
   "outputs": [],
   "source": [
    "palabras_ingresadas= []\n",
    "\n",
    "def palabras_en_juego():\n",
    "    palabra_ingresada = input('Ingresar una palabra')\n",
    "    lista_de_palabra_ingresada = list(palabra_ingresada)\n",
    "    lista_palabra = lista_de_palabra_ingresada\n",
    "    palabras_ingresadas.append(lista_palabra)\n",
    "    print(palabras_ingresadas)\n",
    "\n",
    "palabras_en_juego()\n",
    "palabras_en_juego()\n",
    "palabras_en_juego()"
   ]
  },
  {
   "cell_type": "code",
   "execution_count": null,
   "id": "7617bb52",
   "metadata": {},
   "outputs": [],
   "source": [
    "palabras_ingresadas = []\n",
    "cantidad = 0\n",
    "\n",
    "while cantidad < 3:\n",
    "    palabra = input(\"Ingrese la primera palabra\")\n",
    "    palabra_enlistada = list(palabra)\n",
    "    palabras_ingresadas.append(palabra_enlistada)\n",
    "\n",
    "    print(palabras_ingresadas)\n",
    "    cantidad += 1"
   ]
  },
  {
   "cell_type": "code",
   "execution_count": null,
   "id": "abb53cb4",
   "metadata": {},
   "outputs": [],
   "source": [
    "palabra_ingresada = input('Ingresar una palabra')\n",
    "lista_de_palabra_ingresada = list(palabra_ingresada)\n",
    "lista_palabra = lista_de_palabra_ingresada\n",
    "palabras_ingresadas.append(lista_palabra)\n",
    "print(palabras_ingresadas)\n",
    "\n",
    "palabra_ingresada = input('Ingresar una palabra')\n",
    "lista_de_palabra_ingresada = list(palabra_ingresada)\n",
    "lista_palabra = lista_de_palabra_ingresada\n",
    "palabras_ingresadas.append(lista_palabra)\n",
    "print(palabras_ingresadas)\n",
    "\n",
    "palabra_ingresada = input('Ingresar una palabra')\n",
    "lista_de_palabra_ingresada = list(palabra_ingresada)\n",
    "lista_palabra = lista_de_palabra_ingresada\n",
    "palabras_ingresadas.append(lista_palabra)\n",
    "print(palabras_ingresadas)"
   ]
  },
  {
   "cell_type": "code",
   "execution_count": 30,
   "id": "fcf9b23f",
   "metadata": {},
   "outputs": [
    {
     "name": "stdout",
     "output_type": "stream",
     "text": [
      "['c', 'a', 's', 'a']\n",
      "['c', 'a', 's', 'a'] ['h', 'o', 'l', 'a']\n",
      "['c', 'a', 's', 'a'] ['h', 'o', 'l', 'a'] ['c', 'h', 'a', 'u']\n"
     ]
    }
   ],
   "source": [
    "palabra = input('Ingrese una palabra')\n",
    "palabra1 = list(palabra)\n",
    "print(palabra1)\n",
    "\n",
    "palabra = input('Ingrese una palabra')\n",
    "palabra2 = list(palabra)\n",
    "print(palabra1,palabra2)\n",
    "\n",
    "palabra = input('Ingrese una palabra')\n",
    "palabra3 = list(palabra)\n",
    "print (palabra1,palabra2,palabra3)"
   ]
  },
  {
   "cell_type": "code",
   "execution_count": 31,
   "id": "02de8096",
   "metadata": {},
   "outputs": [],
   "source": [
    "def obtener_fila_verificada(palabra_a_encontrar, palabra_ingresada):\n",
    "    cantidad_de_letras = 5\n",
    "\n",
    "    letras_verficadas = []\n",
    "\n",
    "    for posicion in range(cantidad_de_letras):\n",
    "        #Si la letra coincide con la posicion\n",
    "        letras_son_iguales = palabra_a_encontrar[posicion] == palabra_ingresada[posicion]\n",
    "\n",
    "        la_letra_existe_en_la_palabra = palabra_ingresada[posicion] in palabra_a_encontrar\n",
    "\n",
    "        if letras_son_iguales:\n",
    "\n",
    "            letras_verficadas.append(\"[\" + palabra_ingresada[posicion] + \"]\")\n",
    "        \n",
    "        elif la_letra_existe_en_la_palabra:\n",
    "            letras_verficadas.append(f\"({palabra_ingresada[posicion]})\")\n",
    "\n",
    "        else:\n",
    "            letras_verficadas.append(palabra_ingresada[posicion])\n",
    "\n",
    "    return letras_verficadas\n",
    "\n"
   ]
  },
  {
   "cell_type": "code",
   "execution_count": 32,
   "id": "61522cf3",
   "metadata": {},
   "outputs": [
    {
     "data": {
      "text/plain": [
       "['(l)', '(a)', '[b]', '[o]', '(r)']"
      ]
     },
     "execution_count": 32,
     "metadata": {},
     "output_type": "execute_result"
    }
   ],
   "source": [
    "obtener_fila_verificada('arbol','labor')"
   ]
  },
  {
   "cell_type": "markdown",
   "id": "a210b9bc",
   "metadata": {},
   "source": [
    "## Challenge 6 🤺 - 25m\n",
    "\n",
    "Dada la lista de ejemplo: \n",
    "\n",
    "lista = [['h', 'o', 'l', 'i', 's'], ['h', 'e', 'l', 'l', 'o'], ['h', 'a', 'l', 'l', 'o']]\n",
    "\n",
    "`Crear una función` que `imprima` una grilla (lista de listas), `una línea` por cada lista dentro de la lista principal.\n",
    "\n",
    "Ejemplo del resultado esperado:\n",
    "\n",
    "```\n",
    "['h', 'o', 'l', 'i', 's']\n",
    "['h', 'e', 'l', 'l', 'o']\n",
    "['h', 'a', 'l', 'l', 'o']"
   ]
  },
  {
   "cell_type": "markdown",
   "id": "60e543c6",
   "metadata": {},
   "source": [
    "###  Jorge🚇"
   ]
  },
  {
   "cell_type": "code",
   "execution_count": null,
   "id": "61ebde04",
   "metadata": {},
   "outputs": [
    {
     "name": "stdout",
     "output_type": "stream",
     "text": [
      "['h', 'o', 'l', 'i', 's']\n",
      "['h', 'e', 'l', 'l', 'o']\n",
      "['h', 'a', 'l', 'l', 'o']\n",
      "['h', 'o', 'l', 'i', 's']\n",
      "['h', 'e', 'l', 'l', 'o']\n",
      "['h', 'a', 'l', 'l', 'o']\n",
      "['c', 'h', 'a', 'u']\n"
     ]
    }
   ],
   "source": [
    "grilla = [['h', 'o', 'l', 'i', 's'], ['h', 'e', 'l', 'l', 'o'], ['h', 'a', 'l', 'l', 'o'], ['c','h','a','u']]\n",
    "\n",
    "def listas(grilla):\n",
    "    print(grilla[0])\n",
    "    print(grilla[1])\n",
    "    print(grilla[2])\n",
    "    print(grilla[1])\n",
    "    print(grilla[2])\n",
    "    \n",
    "    for palabra in (grilla):\n",
    "        print(palabra)\n",
    "\n",
    "        #for letra in palabra:\n",
    "        #    print(letra)\n",
    "\n",
    "listas(grilla)"
   ]
  },
  {
   "cell_type": "markdown",
   "id": "51e90d3d",
   "metadata": {},
   "source": [
    "### Edu 🐱‍🏍"
   ]
  },
  {
   "cell_type": "code",
   "execution_count": 33,
   "id": "2bda5173",
   "metadata": {},
   "outputs": [
    {
     "name": "stdout",
     "output_type": "stream",
     "text": [
      "['h', 'o', 'l', 'a']\n",
      "['q', 'u', 'e']\n",
      "['t', 'a', 'l']\n"
     ]
    }
   ],
   "source": [
    "lista_de_listas = [['h', 'o', 'l', 'a'], ['q', 'u', 'e'], ['t', 'a', 'l']]\n",
    "\n",
    "\n",
    "def grilla():\n",
    "    linea1 = lista_de_listas[0]\n",
    "    linea2 = lista_de_listas[1]\n",
    "    linea3 = lista_de_listas[2]\n",
    "    print(linea1)\n",
    "    print(linea2)\n",
    "    print(linea3)\n",
    "\n",
    "grilla()"
   ]
  },
  {
   "cell_type": "code",
   "execution_count": 36,
   "id": "8bc8e38d",
   "metadata": {},
   "outputs": [
    {
     "name": "stdout",
     "output_type": "stream",
     "text": [
      "['l', 'e', 'c', 'h', 'e']\n",
      "Lo siento te quedan 4 \n",
      "Ganastee!\n",
      "Resultado de tus intentos:\n",
      "['l', 'e', 'c', 'h', 'e']\n",
      "['[a]', '[u]', '[d]', '[i]', '[o]']\n"
     ]
    }
   ],
   "source": [
    "#PALABRAVAS\n",
    "\n",
    "palabra_del_dia = \"audio\"\n",
    "cantidad_de_letras = 5\n",
    "intentos = 5\n",
    "\n",
    "#FUNCIÓN PARA VERIFICAR LAS LETRAS\n",
    "def palabra_a_verificar(palabra_ingresada_usuario, palabra_del_dia):\n",
    "    letras_verificadas = []\n",
    "    for posicion in range(cantidad_de_letras):\n",
    "        letra_en_posicion_correcta = palabra_ingresada_usuario[posicion] == palabra_del_dia[posicion]\n",
    "        letra_en_posicion_incorrecta = palabra_ingresada_usuario[posicion] in palabra_del_dia\n",
    "\n",
    "        if letra_en_posicion_correcta:\n",
    "            letras_verificadas.append(f\"[{palabra_ingresada_usuario[posicion]}]\")\n",
    "        elif letra_en_posicion_incorrecta:\n",
    "            letras_verificadas.append(f\"({palabra_ingresada_usuario[posicion]})\")\n",
    "        else:\n",
    "            letras_verificadas.append(palabra_ingresada_usuario[posicion])\n",
    "    return letras_verificadas\n",
    "\n",
    "#GRILLA PARA GUARDAR LOS INTENTOS\n",
    "grilla = []\n",
    "\n",
    "#JUEGO\n",
    "while intentos > 0:\n",
    "    palabra_ingresada_usuario = input(\"Ingrese una palabra: \").lower()\n",
    "\n",
    "    while len(palabra_ingresada_usuario) != cantidad_de_letras:\n",
    "        print(\"Ingrese una palabra de 5 letras, por favor.\")\n",
    "        palabra_ingresada_usuario = input(\"Intenta de nuevo: \").lower()\n",
    "\n",
    "    if palabra_ingresada_usuario == palabra_del_dia:\n",
    "        resultado = palabra_a_verificar(palabra_ingresada_usuario, palabra_del_dia)\n",
    "        grilla.append(resultado)\n",
    "        print(\"Ganastee!\")\n",
    "        break\n",
    "    else:\n",
    "        resultado = palabra_a_verificar(palabra_ingresada_usuario, palabra_del_dia)\n",
    "        grilla.append(resultado)\n",
    "        print(resultado)\n",
    "        intentos -= 1\n",
    "        print(f\"Lo siento te quedan {intentos} \")\n",
    "\n",
    "#MOSTRAR RESULTADO FINAL\n",
    "print(\"Resultado de tus intentos:\")\n",
    "for fila in grilla:\n",
    "    print(fila)\n",
    "\n",
    "if intentos == 0:\n",
    "    print(\"Perdiste la palabra era: \", palabra_del_dia)\n"
   ]
  },
  {
   "cell_type": "code",
   "execution_count": 37,
   "id": "1d634618",
   "metadata": {},
   "outputs": [
    {
     "name": "stdout",
     "output_type": "stream",
     "text": [
      "Intente de nuevo\n",
      "\n",
      "te quedan 5 intentos\n",
      "['C', '(A)', 'S', '(A)', 'S']\n",
      "Intente de nuevo\n",
      "\n",
      "te quedan 4 intentos\n",
      "['(R)', '(A)', 'N', '(A)', 'S']\n",
      "Intente de nuevo\n",
      "\n",
      "te quedan 3 intentos\n",
      "['C', '(A)', 'M', '(A)', 'S']\n",
      "----------------------\n",
      "['[A]', '[R]', '[B]', '[O]', '[L]']\n",
      "Felicidades! Ganaste\n",
      "----------------------\n"
     ]
    }
   ],
   "source": [
    "def obtener_fila_verificada(palabra_a_encontrar, palabra_ingresada):\n",
    "    cantidad_de_letras = 5\n",
    "\n",
    "    letras_verficadas = []\n",
    "\n",
    "    for posicion in range(cantidad_de_letras):\n",
    "        #Si la letra coincide con la posicion\n",
    "        letras_son_iguales = palabra_a_encontrar[posicion] == palabra_ingresada[posicion]\n",
    "\n",
    "        la_letra_existe_en_la_palabra = palabra_ingresada[posicion] in palabra_a_encontrar\n",
    "\n",
    "        if letras_son_iguales:\n",
    "\n",
    "            letras_verficadas.append(\"[\" + palabra_ingresada[posicion] + \"]\")\n",
    "\n",
    "        elif la_letra_existe_en_la_palabra:\n",
    "            letras_verficadas.append(f\"({palabra_ingresada[posicion]})\")\n",
    "\n",
    "        else:\n",
    "            letras_verficadas.append(palabra_ingresada[posicion])\n",
    "\n",
    "    return letras_verficadas\n",
    "\n",
    "intentos = 5 \n",
    "mensaje = \"arbol\"\n",
    "lista_fallido = []\n",
    "\n",
    "while intentos > 0:\n",
    "    palabra_a_encontrar = mensaje.upper()\n",
    "    usuario = input(\"introduce tu mensaje: \")\n",
    "    palabra_ingresada = usuario.upper()\n",
    "\n",
    "    lista_fallido.append(list(palabra_ingresada))\n",
    "\n",
    "    lista = obtener_fila_verificada(palabra_a_encontrar, palabra_ingresada)\n",
    "\n",
    "    if palabra_a_encontrar == palabra_ingresada:\n",
    "        print(\"----------------------\")\n",
    "        print(lista)\n",
    "        print(\"Felicidades! Ganaste\")\n",
    "        print(\"----------------------\")\n",
    "        break\n",
    "    \n",
    "    else:\n",
    "        print(\"Intente de nuevo\\n\")\n",
    "        print(f\"te quedan {intentos} intentos\")\n",
    "    print(lista)\n",
    "\n",
    "    intentos -=1\n",
    "    \n",
    "if intentos == 0: \n",
    "    print(\"Perdiste :(. La palabra secreta era\",mensaje)"
   ]
  },
  {
   "cell_type": "code",
   "execution_count": 38,
   "id": "e2bc7f3e",
   "metadata": {},
   "outputs": [
    {
     "name": "stdout",
     "output_type": "stream",
     "text": [
      "Encuentra la palabra del dia. Ingrese 6 digitos\n",
      "La palabra debe contener 6 letras\n",
      "['G', 'R', 'U', 'L', 'L', 'A']\n",
      "Te quedan 6 intentos\n",
      "['P', 'E', 'R', 'R', 'O', 'S']\n",
      "Te quedan 5 intentos\n",
      "['[p]', '[e]', '[r]', '[r]', '[o]', '[s]']\n",
      "Te quedan 4 intentos\n",
      "Ganaste\n"
     ]
    }
   ],
   "source": [
    "# Palabra a encontrar\n",
    "\n",
    "palabra_a_encontrar = 'perros'\n",
    "\n",
    "# cantidad de intentos\n",
    "\n",
    "vidas = 6\n",
    "\n",
    "# definimos la funcion que se encarga de verificar las letras de las palabras\n",
    "\n",
    "def obtener_fila_verificada(palabra_a_encontrar, palabra_ingresada):\n",
    "    cantidad_de_letras = 6\n",
    "\n",
    "    letras_verficadas = []\n",
    "\n",
    "    for posicion in range(cantidad_de_letras):\n",
    "            \n",
    "        letras_son_iguales = palabra_a_encontrar[posicion] == palabra_ingresada[posicion]\n",
    "\n",
    "        la_letra_existe_en_la_palabra = palabra_ingresada[posicion] in palabra_a_encontrar\n",
    "\n",
    "        if letras_son_iguales:\n",
    "\n",
    "            letras_verficadas.append(\"[\" + palabra_ingresada[posicion] + \"]\")\n",
    "            \n",
    "        elif la_letra_existe_en_la_palabra:\n",
    "            letras_verficadas.append(f\"({palabra_ingresada[posicion]})\")\n",
    "\n",
    "        else:\n",
    "            letras_verficadas.append(palabra_ingresada[posicion])\n",
    "                \n",
    "    return letras_verficadas\n",
    "\n",
    "lista_vacia = []\n",
    "\n",
    "print('Encuentra la palabra del dia. Ingrese 6 digitos')\n",
    "\n",
    "# esta funcion se encarga de verificar las vidas y que aun nos queden intentos\n",
    "\n",
    "while vidas > 0:\n",
    "\n",
    "    ## En esta parte verifica primeramente cuantas vidas tenemos, y tambien nos informa si tenemos toda las letras de la palabra e este caso 6\n",
    "\n",
    "    palabra_ingresada = input('Adivina la palabra')\n",
    "    if len(palabra_ingresada) != 6:\n",
    "        print('La palabra debe contener 6 letras') # aqui nos solicita que la palabra ingresada debe tener las 6 letras nesesarias para seguir probando el juego\n",
    "        continue\n",
    "    resultado = obtener_fila_verificada(palabra_a_encontrar, palabra_ingresada)\n",
    "    print(resultado)\n",
    "    print(f'Te quedan {vidas} intentos') # aqui nos informa cuantas vidas restantes tenemos \n",
    "    vidas -= 1\n",
    "    if palabra_ingresada == palabra_a_encontrar:\n",
    "        print('Ganaste')\n",
    "        break\n",
    "    elif vidas == 0:\n",
    "        print('Perdiste')"
   ]
  },
  {
   "cell_type": "code",
   "execution_count": 39,
   "id": "b8289b7c",
   "metadata": {},
   "outputs": [
    {
     "name": "stdout",
     "output_type": "stream",
     "text": [
      " LA PALABRA INGRESADA DEBE TENER 5 LETRAS \n",
      " LA PALABRA INGRESADA DEBE TENER 5 LETRAS \n",
      "Te quedan 6 intentos chaval\n",
      "['(a)', 'g', 'u', '(a)', 's']\n",
      "['💛', '🖤', '🖤', '💛', '🖤']\n",
      "Te quedan 5 intentos chaval\n",
      "['[c]', '[e]', '[l]', 't', '[a]']\n",
      "['💚', '💚', '💚', '🖤', '💚']\n",
      "ADIVINASTE\n"
     ]
    }
   ],
   "source": [
    "#Codigo de  prueba\n",
    "palabra = 'celda'\n",
    "\n",
    "palabra_a_adivinar = list(palabra)\n",
    "\n",
    "contador = 6\n",
    "\n",
    "letra = 0\n",
    "\n",
    "detonador = False\n",
    "\n",
    "lista_parcial = []\n",
    "\n",
    "binario = 0\n",
    "\n",
    "colores = []\n",
    "\n",
    "while contador != 0 :\n",
    "\n",
    "    while True:\n",
    "        palabra_ingresada = input ( 'Ingrese una palabra de 5 letras en minuscula: ' )\n",
    "\n",
    "        if len(palabra_ingresada) == 5:\n",
    "            lista_de_letras = list(palabra_ingresada)\n",
    "\n",
    "            break\n",
    "        else:\n",
    "            print(' LA PALABRA INGRESADA DEBE TENER 5 LETRAS ')\n",
    "\n",
    "    if ( palabra_a_adivinar == lista_de_letras ):\n",
    "\n",
    "        print('ADIVINASTE')\n",
    "        binario = 1\n",
    "        break\n",
    "\n",
    "        \n",
    "\n",
    "\n",
    "    for letra in range(5):\n",
    "        \n",
    "        if ( palabra_a_adivinar[letra] == lista_de_letras [letra] ):\n",
    "\n",
    "            lista_parcial.append(f'[{lista_de_letras[letra]}]')\n",
    "            colores.append(\"💚\")\n",
    "\n",
    "\n",
    "        elif ( lista_de_letras[letra] in palabra_a_adivinar ):\n",
    "\n",
    "            lista_parcial.append(f'({lista_de_letras[letra]})')\n",
    "            colores.append(\"💛\")\n",
    "            \n",
    "        else:\n",
    "            lista_parcial.append(lista_de_letras[letra])\n",
    "            colores.append(\"🖤\")\n",
    "\n",
    "\n",
    "    if detonador == False:\n",
    "      print(f'Te quedan {contador} intentos chaval')\n",
    "      print(lista_parcial)\n",
    "      print(colores)\n",
    "    \n",
    "    \n",
    "    \n",
    "    lista_parcial = []\n",
    "    colores = []\n",
    "    contador -= 1\n",
    "\n",
    "if binario == 0:\n",
    "    print(\"perdiste\")"
   ]
  },
  {
   "cell_type": "code",
   "execution_count": 40,
   "id": "0fa7ed0f",
   "metadata": {},
   "outputs": [
    {
     "name": "stdout",
     "output_type": "stream",
     "text": [
      "['(T)', '(O)', 'T', '(A)', 'L']\n",
      "Le quedan 4 intentos\n",
      "['(T)', '(O)', 'T', '(A)', 'L']\n",
      "['[P]', '[A]', '[S]', '[T]', 'A']\n",
      "Le quedan 3 intentos\n",
      "['(T)', '(O)', 'T', '(A)', 'L']\n",
      "['[P]', '[A]', '[S]', '[T]', 'A']\n",
      "['[P]', '[A]', '[S]', '[T]', '[O]']\n",
      "Ganaste la palabra del dia es: PASTO\n"
     ]
    }
   ],
   "source": [
    "palabra_de_dia = 'PASTO'\n",
    "intentos = 0\n",
    "grilla_intentos = []\n",
    "def obtener_fila_verificada(palabra_a_encontrar, palabra_ingresada):\n",
    "    cantidad_de_letras = 5\n",
    "\n",
    "    letras_verficadas = []\n",
    "    aux=0\n",
    "\n",
    "    for posicion in range(cantidad_de_letras):\n",
    "        #Si la letra coincide con la posicion\n",
    "        letras_son_iguales = palabra_a_encontrar[posicion] == palabra_ingresada[posicion]\n",
    "\n",
    "        la_letra_existe_en_la_palabra = palabra_ingresada[posicion] in palabra_a_encontrar\n",
    "        \n",
    "        \n",
    "        \n",
    "        if letras_son_iguales:\n",
    "\n",
    "            letras_verficadas.append(\"[\" + palabra_ingresada[posicion] + \"]\")\n",
    "        \n",
    "        elif la_letra_existe_en_la_palabra:\n",
    "            letras_verficadas.append(f\"({palabra_ingresada[posicion]})\")\n",
    "\n",
    "        else:\n",
    "            letras_verficadas.append(palabra_ingresada[posicion])\n",
    "        aux1=letras_verficadas.count(f\"[{palabra_ingresada[posicion]}]\")\n",
    "        aux2=letras_verficadas.count(f\"({palabra_ingresada[posicion]})\")\n",
    "        if((aux1>0 or aux2>1) and letras_verficadas[posicion]==f\"({palabra_ingresada[posicion]})\"):\n",
    "            letras_verficadas[posicion] = (palabra_ingresada[posicion])\n",
    "        \n",
    "    return letras_verficadas\n",
    "\n",
    "def validacion_palabra(cifras_palabra_oculta):\n",
    "    palabra = input('Encuentra la palabra oculta:')\n",
    "    while (not palabra.isalpha() or len(palabra)!=cifras_palabra_oculta):\n",
    "        print('La palabra ingresada es invalida')\n",
    "        palabra = input(\"Ingrese una palabra valida:\")\n",
    "\n",
    "        \n",
    "    return palabra.upper()\n",
    "\n",
    "\n",
    "while intentos<4:\n",
    "    palabra_intento= validacion_palabra(len(palabra_de_dia))\n",
    "    obtener_fila_verificada(palabra_de_dia,palabra_intento)\n",
    "    grilla_intentos.append(obtener_fila_verificada(palabra_de_dia,palabra_intento))\n",
    "    for iterador in grilla_intentos:\n",
    "        print(iterador)\n",
    "    if palabra_intento==palabra_de_dia:\n",
    "        print(f'Ganaste la palabra del dia es: {palabra_de_dia}')\n",
    "        break\n",
    "    else:\n",
    "        intentos = intentos + 1\n",
    "        print(f'Le quedan {5-(intentos)} intentos')\n",
    "        \n",
    "    if(intentos == 5):\n",
    "        print(\"Has perdidos el juego. te quedaste sin intentos\")\n",
    "        print(f'La palabra del dia era {palabra_de_dia}')"
   ]
  },
  {
   "cell_type": "code",
   "execution_count": 41,
   "id": "34d5205f",
   "metadata": {},
   "outputs": [
    {
     "name": "stdout",
     "output_type": "stream",
     "text": [
      "Bienvenido a Wordle\n",
      "Instrucciones de juego:\n",
      "Tenes que adivinar una palabra de 5 letras en 6 intentos\n",
      "Si la letra esta en la posicion correcta sale asi: [A]\n",
      "Si la letra esta en la palabra pero no en la misma posicion sale asi: (A)\n",
      "Si la letra no existe sale sin nada\n",
      "--------------\n",
      "['a', '(r)', 'b', '(o)', 'l']\n",
      "[':red_square:', ':yellow_square:', ':red_square:', ':yellow_square:', ':red_square:']\n",
      "['c', 'i', '(e)', 'l', '[o]']\n",
      "[':red_square:', ':red_square:', ':yellow_square:', ':red_square:', ':green_square:']\n",
      "['[p]', '[e]', '[r]', '[r]', '[o]']\n",
      "[':green_square:', ':green_square:', ':green_square:', ':green_square:', ':green_square:']\n",
      "Enhorabuena. Has ganado tio.\n"
     ]
    }
   ],
   "source": [
    "p_objetivo = 'perro'\n",
    "lista_objetivo = list(p_objetivo)\n",
    "intentos = 6\n",
    "tamano = 5\n",
    "print(f'Bienvenido a Wordle\\nInstrucciones de juego:\\nTenes que adivinar una palabra de 5 letras en 6 intentos\\nSi la letra esta en la posicion correcta sale asi: [A]\\nSi la letra esta en la palabra pero no en la misma posicion sale asi: (A)\\nSi la letra no existe sale sin nada\\n--------------')\n",
    "while intentos > 0: #Este bucle es cdda intento\n",
    "    p_usuario = input('Ingrese una palabra de 5 letras')\n",
    "    while len(p_usuario) != tamano: #Validador del tamaño de la palabra\n",
    "        p_usuario = input('Tu palabra no tiene 5 letras, Ingrese otra')\n",
    "    lista_usuario = list(p_usuario)\n",
    "    lista_comparada = []\n",
    "    lista_colores = []\n",
    "\n",
    "    for ind_letra in range(tamano): #Este bucle es el que compara las letras \n",
    "        if lista_usuario[ind_letra] == lista_objetivo[ind_letra]: #Letra en lugar que corresponde\n",
    "            lista_comparada.append(f'[{lista_usuario[ind_letra]}]')\n",
    "            lista_colores.append(':green_square:')\n",
    "\n",
    "        elif lista_usuario[ind_letra] in lista_objetivo: #Esta pero en otro lugar\n",
    "            lista_comparada.append(f'({lista_usuario[ind_letra]})')\n",
    "            lista_colores.append(':yellow_square:')\n",
    "\n",
    "        else: #No existe\n",
    "            lista_comparada.append(f'{lista_usuario[ind_letra]}')\n",
    "            lista_colores.append(':red_square:')\n",
    "\n",
    "    print(lista_comparada)\n",
    "    print(lista_colores) #Se imprime la palabra y los colores\n",
    "\n",
    "    if p_usuario == p_objetivo:\n",
    "        print('Enhorabuena. Has ganado tio.')\n",
    "        break\n",
    "\n",
    "    intentos = intentos - 1 #Este va arriba asi cuando llega a cero se detiene\n",
    "    if intentos == 0:\n",
    "        print('Juego Terminado. Perdiste.') # :("
   ]
  },
  {
   "cell_type": "code",
   "execution_count": 42,
   "id": "b0970749",
   "metadata": {},
   "outputs": [
    {
     "name": "stdout",
     "output_type": "stream",
     "text": [
      "---INSTRUCCIONES---\n",
      "Los'[]' indican que acercaste la posición. \n",
      "Los'()' indican que la letra exite en la palabra. \n",
      " Tienes 5 vidas.\n",
      "['s', '(o)', '(l)', '(a)', '(r)']\n",
      "\n",
      " Te quedan 4 vidas\n",
      "['p', 'e', '(r)', '(r)', '(o)']\n",
      "\n",
      " Te quedan 3 vidas\n",
      "['(l)', '(a)', '[b]', '[o]', '(r)']\n",
      "\n",
      " Te quedan 2 vidas\n",
      "\n",
      "Felicidades ganaste!\n",
      "La palabra es \n",
      "['[a]', '[r]', '[b]', '[o]', '[l]']\n"
     ]
    }
   ],
   "source": [
    "palabra_a_encontrar = \"arbol\"\n",
    "longitud_palabra_a_encontrar = len(palabra_a_encontrar)\n",
    "intentos = 5\n",
    "print(\"---INSTRUCCIONES---\")\n",
    "print(f\"Los'[]' indican que acercaste la posición. \\nLos'()' indican que la letra exite en la palabra. \\n Tienes {intentos} vidas.\")\n",
    "\n",
    "\n",
    "def obtener_fila_verificada(palabra_a_encontrar, palabra_ingresada):\n",
    "    cantidad_de_letras = 5\n",
    "    letras_verficadas = []\n",
    "\n",
    "    for posicion in range(cantidad_de_letras):\n",
    "        # Si la letra coincide con la posicion\n",
    "        letras_son_iguales = palabra_a_encontrar[posicion] == palabra_ingresada[posicion]\n",
    "        la_letra_existe_en_la_palabra = palabra_ingresada[posicion] in palabra_a_encontrar\n",
    "\n",
    "        if letras_son_iguales:\n",
    "\n",
    "            letras_verficadas.append(f\"[{palabra_ingresada[posicion]}]\")\n",
    "        elif la_letra_existe_en_la_palabra:\n",
    "            letras_verficadas.append(f\"({palabra_ingresada[posicion]})\")\n",
    "        else:\n",
    "            letras_verficadas.append(palabra_ingresada[posicion])\n",
    "    return letras_verficadas\n",
    "\n",
    "\n",
    "while intentos > 0:\n",
    "\n",
    "    palabra = input(f\"Ingrese una palabra de {longitud_palabra_a_encontrar}\\n\").lower()\n",
    "    if longitud_palabra_a_encontrar != len(palabra):\n",
    "        print(f\"\\n Ingresa una palabra de {longitud_palabra_a_encontrar} digitos\")\n",
    "        # intentos= intentos-1\n",
    "        # print(f\"Te quedan {intentos}\")\n",
    "\n",
    "    elif palabra_a_encontrar == palabra:\n",
    "        print(\"\\nFelicidades ganaste!\")\n",
    "        print(f\"La palabra es \\n{obtener_fila_verificada(palabra_a_encontrar, palabra)}\")\n",
    "        break\n",
    "\n",
    "    else:\n",
    "        # longitud_palabra_a_encontrar == len(palabra):\n",
    "        obtener_fila_verificada(palabra_a_encontrar, palabra)\n",
    "        print(obtener_fila_verificada(palabra_a_encontrar, palabra))\n",
    "        intentos = intentos - 1\n",
    "        print(f\"\\n Te quedan {intentos} vidas\")\n",
    "\n",
    "    if intentos == 0:\n",
    "        print(\"\\n Te quedaste sin intentos\")"
   ]
  },
  {
   "cell_type": "code",
   "execution_count": 43,
   "id": "bb612834",
   "metadata": {},
   "outputs": [
    {
     "name": "stdout",
     "output_type": "stream",
     "text": [
      "\n",
      "Bienvenido al juego, intenta adivinar la palabra secreta en 5 intentos\n",
      "\n",
      "ingrese una palabra de 8 letras\n",
      "['c', '(a)', '(n)', '(a)', 's', '(t)', '(a)', 's']\n",
      "\n",
      "Te quedan 4 intento/s\n",
      "['[e]', '[l]', '[e]', 'g', '[a]', '[n]', '[t]', '[e]']\n",
      "\n",
      "Te quedan 3 intento/s\n",
      "['[e]', '[l]', '[e]', '[f]', '[a]', '[n]', '[t]', '[e]']\n",
      "\n",
      "Has GANADO, la palabra era elefante, lo has logrado en 3 intento/s\n"
     ]
    }
   ],
   "source": [
    "#1.definir una palabra secreta\n",
    "#2.definir intentos\n",
    "#3.definimos una funcion para verificar las letras\n",
    "#4.definir una lista de palabras verificadas, y agregar en orden\n",
    "#5.pedimos al usuario ingresar una palabra\n",
    "#6.definimos una funcion para verificar las letras\n",
    "#7.comparamos la palabra ingresada con la palabra secreta\n",
    "#8.comparar si las posiciones son iguales, si es asi colocar []\n",
    "#9.comparar si la letra esta dentro de la palabra secreta, si es\n",
    "#asi colocar ()\n",
    "#10.reducir los intentos por cada ingreso del usuario y\n",
    "#11.terminar el programa si los intentos llegan a 0 con un texto\n",
    "#12. Si el usuario adivina la palabra felicitarle con un texto \n",
    "#y decirle que gano\n",
    "\n",
    "\n",
    "\n",
    "#definir palabra secreta\n",
    "palabra_secreta = 'elefante'\n",
    "\n",
    "#definir intentos\n",
    "intentos = 5\n",
    "intentos_hechos =  1\n",
    "logrado = False\n",
    "\n",
    "#definir una funcion para comprobar si las letras son iguales\n",
    "def comprobar_letras(palabra_usuario, palabra_secreta):\n",
    "    cantidad_de_letras = len(palabra_secreta)\n",
    "    letras_verificadas = []\n",
    "\n",
    "    #definimos un for para analizar cada posicion de las palabras\n",
    "    for posicion in range(cantidad_de_letras):\n",
    "        \n",
    "        #analizar si la letra en la misma posicion son iguales\n",
    "        letras_son_iguales = palabra_usuario[posicion] == palabra_secreta[posicion]\n",
    "        \n",
    "        #analizar si la letra existe en el texto\n",
    "        la_letra_existe = palabra_usuario[posicion] in palabra_secreta\n",
    "\n",
    "        if letras_son_iguales:#si son iguales imprimir entre []\n",
    "            letras_verificadas.append(f'[{palabra_usuario[posicion]}]')\n",
    "\n",
    "        elif la_letra_existe:#si existe en la palabra imprimir entre ()\n",
    "            letras_verificadas.append(f'({palabra_usuario[posicion]})')\n",
    "\n",
    "        else:#si no se dan ninguno de los casos imprimimos la letra normal\n",
    "            letras_verificadas.append(f'{palabra_usuario[posicion]}')\n",
    "         \n",
    "    return letras_verificadas\n",
    "\n",
    "#mensaje de bienvenida al usuario\n",
    "print(f'\\nBienvenido al juego, intenta adivinar la palabra secreta en {intentos} intentos')\n",
    "\n",
    "#bucle de intentos\n",
    "while(intentos > 0):\n",
    "    #pedir palabra al usuario\n",
    "    palabra_usuario = input(f'\\nIngrese una palabra que contenga {len(palabra_secreta)} letras: ')\n",
    "    palabra_usuario = palabra_usuario.lower()\n",
    "    \n",
    "    #validar la cantidad de letras que ingresa el usuario con la palabra secreta\n",
    "    while len(palabra_usuario) != len(palabra_secreta):\n",
    "        print(f'\\ningrese una palabra de {len(palabra_secreta)} letras')\n",
    "        palabra_usuario = input(f'Ingrese una palabra que contenga {len(palabra_secreta)} letras: ')\n",
    "    \n",
    "    #llamar a la funcion para comprobar las letras\n",
    "    comprobar_letras(palabra_usuario, palabra_secreta)\n",
    "    lista_verificada = comprobar_letras(palabra_usuario, palabra_secreta)\n",
    "    print(lista_verificada)\n",
    "\n",
    "    #si el usuario adivina la palabra secreta, salir del bucle\n",
    "    if palabra_usuario == palabra_secreta:\n",
    "        logrado = True \n",
    "        break\n",
    "\n",
    "    #reducir los intentos\n",
    "    intentos = intentos - 1\n",
    "    intentos_hechos = intentos_hechos + 1\n",
    "    print(F'\\nTe quedan {intentos} intento/s')\n",
    "\n",
    "#imprime si logrado es True or False\n",
    "if logrado:\n",
    "    print(f'\\nHas GANADO, la palabra era {palabra_secreta}, lo has logrado en {intentos_hechos} intento/s')\n",
    "else:\n",
    "    print('\\nTe has quedado sin intentos, has PERDIDO, sigue intentando')"
   ]
  },
  {
   "cell_type": "code",
   "execution_count": 44,
   "id": "5c70a986",
   "metadata": {},
   "outputs": [
    {
     "name": "stdout",
     "output_type": "stream",
     "text": [
      "ADIVINA LA PALABRA\n",
      "\n",
      "-------------------------------------------------------------------------\n",
      "Te quedan 6 intentos...\n",
      "-------------------------------------------------------------------------\n",
      "-------------------------------------------------------------------------\n",
      "Error. La palabra no cumple con las condiciones...\n",
      "-------------------------------------------------------------------------\n",
      "Te quedan 6 intentos...\n",
      "-------------------------------------------------------------------------\n",
      "-------------------------------------------------------------------------\n",
      "Error. La palabra no cumple con las condiciones...\n",
      "-------------------------------------------------------------------------\n",
      "Te quedan 6 intentos...\n",
      "-------------------------------------------------------------------------\n",
      "['[a]', '[r]', '[b]', 'i', '[l]']\n",
      "-------------------------------------------------------------------------\n",
      "Te quedan 5 intentos...\n",
      "-------------------------------------------------------------------------\n",
      "['[a]', '[r]', '[b]', '[o]', '[l]']\n",
      "\n",
      "Felicidades jorge!!!. Acertaste la palabra.\n",
      "-------------------------------------------------------------------------\n"
     ]
    }
   ],
   "source": [
    "print('ADIVINA LA PALABRA\\n')\n",
    "nombre_usuario = input('Ingrese su nombre: ')\n",
    "\n",
    "#palabra a adivinar\n",
    "palabra_correcta = 'arbol'\n",
    "\n",
    "#poner en minuscula\n",
    "palabra_correcta = palabra_correcta.lower()\n",
    "\n",
    "#cantidad de intentos\n",
    "intentos = 6\n",
    "\n",
    "#Utilizamos el while para saber si seguimos teniendo intentos\n",
    "while intentos > 0:\n",
    "    print(f'-------------------------------------------------------------------------\\nTe quedan {intentos} intentos...\\n-------------------------------------------------------------------------')\n",
    "    cont = 0\n",
    "\n",
    "    #creamos una lista para almacenar las letras de la palabra\n",
    "    lista_palabra = []\n",
    "\n",
    "    #el usuario debe ingresar la palabra \n",
    "    palabra = input(f'Ingrese una palabra con {len(palabra_correcta)} letras (OJITO... solo pueden ser letras): ')\n",
    "    \n",
    "    #poner en minuscula\n",
    "    palabra = palabra.lower()\n",
    "\n",
    "    #valida que solo sean letras\n",
    "    validar = palabra.isalpha()\n",
    "\n",
    "    #validar que sean de la misma longitud y que solo sean letras\n",
    "    while len(palabra) != len(palabra_correcta) or validar == False:\n",
    "        print('-------------------------------------------------------------------------\\nError. La palabra no cumple con las condiciones...\\n-------------------------------------------------------------------------')\n",
    "        print(f'Te quedan {intentos} intentos...\\n-------------------------------------------------------------------------')\n",
    "        palabra = input(f'Ingrese una palabra con {len(palabra_correcta)} letras (OJITO... solo pueden ser letras): ')\n",
    "        validar = palabra.isalpha()\n",
    "\n",
    "    #recorremos las dos palabras \n",
    "    for i in range(len(palabra_correcta)):\n",
    "            \n",
    "            #ver si la letra es igual y está en la misma posición\n",
    "            letra_acertada = palabra[i] == palabra_correcta[i]\n",
    "\n",
    "            #ver si la letra se encuentra en la palabra a adivinar\n",
    "            letra_encontrada = palabra[i] in palabra_correcta\n",
    "\n",
    "            #si la letra es igual y esta en la misma posicion entra acá\n",
    "            if letra_acertada:\n",
    "\n",
    "                #cuenta la cantidad de aciertos en la palabra (debe haber 5 ya que son 5 letras)\n",
    "                cont = cont + 1\n",
    "                lista_palabra.append(f'[{palabra[i]}]')\n",
    "\n",
    "            #si la letra está dentro de la palabra pero no en la posición entra acá\n",
    "            elif letra_encontrada:\n",
    "                lista_palabra.append(f'({palabra[i]})')\n",
    "\n",
    "            #si no cumple ninguna entra acá:\n",
    "            else:\n",
    "                lista_palabra.append(f'{palabra[i]}')\n",
    "\n",
    "    print(lista_palabra)\n",
    "\n",
    "    #vemos si la palabra se adivinó\n",
    "    if cont == len(palabra_correcta):\n",
    "        print(f'\\nFelicidades {nombre_usuario}!!!. Acertaste la palabra.\\n-------------------------------------------------------------------------')\n",
    "        break\n",
    "    else:\n",
    "        #si no se adivinó se le descuenta un intento\n",
    "        intentos = intentos - 1\n",
    "\n",
    "    \n",
    "    #si se acaban los intentos, imprime esto\n",
    "    if intentos == 0:\n",
    "         print(f'\\n{nombre_usuario}, lastimosamente te quedaste sin intentos... :(\\n-------------------------------------------------------------------------')\n",
    "         print(f'La palabra es {palabra_correcta} :)\\n-------------------------------------------------------------------------')"
   ]
  },
  {
   "cell_type": "code",
   "execution_count": null,
   "id": "a17e95e1",
   "metadata": {},
   "outputs": [],
   "source": [
    "def obtener_fila_verificada(palabra_a_encontrar, palabra_ingresada):\n",
    "\n",
    "    #reglas del juego\n",
    "   cantidad_de_letras = 5\n",
    "\n",
    "   letras_verficadas = []\n",
    "\n",
    "   for posicion in range(cantidad_de_letras):\n",
    "       #Si la letra coincide con la posicion\n",
    "       letras_son_iguales = palabra_a_encontrar[posicion] == palabra_ingresada[posicion]\n",
    "\n",
    "       la_letra_existe_en_la_palabra = palabra_ingresada[posicion] in palabra_a_encontrar\n",
    "\n",
    "       if letras_son_iguales:\n",
    "\n",
    "           letras_verficadas.append(\"[\" + palabra_ingresada[posicion] + \"]\")\n",
    "\n",
    "       elif la_letra_existe_en_la_palabra:\n",
    "           letras_verficadas.append(f\"({palabra_ingresada[posicion]})\")\n",
    "\n",
    "       else:\n",
    "           letras_verficadas.append(palabra_ingresada[posicion])\n",
    "\n",
    "   return letras_verficadas\n",
    "\n",
    "#reglas del juego\n",
    "intentos=3\n",
    "print(f'te quedan {intentos} vidas😻😻')\n",
    "\n",
    "\n",
    "while True:\n",
    "\n",
    "   usu_1= input('😏ingrese una palabra😏')\n",
    "   variable='gatos'\n",
    "   lista_nueva = obtener_fila_verificada(variable,usu_1)\n",
    "   print(lista_nueva)\n",
    "   if usu_1==variable:\n",
    "       print('GANASTEEEEEE💃💃💃 CONGRATULEISHION🥳🥳🥳 ese essss☝️')\n",
    "       break\n",
    "\n",
    "   intentos= intentos-1\n",
    "   print(f'te quedan {intentos} vidas')\n",
    "   if intentos== 0:\n",
    "       print('MBAAAA EPERDEPAITE👅🤣')\n",
    "       break"
   ]
  }
 ],
 "metadata": {
  "kernelspec": {
   "display_name": "Python 3",
   "language": "python",
   "name": "python3"
  },
  "language_info": {
   "codemirror_mode": {
    "name": "ipython",
    "version": 3
   },
   "file_extension": ".py",
   "mimetype": "text/x-python",
   "name": "python",
   "nbconvert_exporter": "python",
   "pygments_lexer": "ipython3",
   "version": "3.12.6"
  }
 },
 "nbformat": 4,
 "nbformat_minor": 5
}
